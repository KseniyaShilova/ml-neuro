{
 "cells": [
  {
   "cell_type": "code",
   "execution_count": 37,
   "id": "51a27a1c-8553-45e1-b377-678b995c3716",
   "metadata": {},
   "outputs": [],
   "source": [
    "from PIL import Image"
   ]
  },
  {
   "cell_type": "code",
   "execution_count": 38,
   "id": "3d3d32c6-8c03-4cc2-b6a2-0afcfdf7921a",
   "metadata": {},
   "outputs": [],
   "source": [
    "from pathlib import Path\n",
    "import numpy as np\n",
    "import seaborn as sns\n",
    "from sklearn.datasets import make_circles\n",
    "import albumentations"
   ]
  },
  {
   "cell_type": "code",
   "execution_count": 39,
   "id": "818bac8c-2ec4-4d12-af67-141b826ba9dc",
   "metadata": {},
   "outputs": [
    {
     "name": "stdout",
     "output_type": "stream",
     "text": [
      "Requirement already satisfied: Pillow in c:\\users\\user\\miniconda3\\envs\\mlisuct\\lib\\site-packages (8.3.2)\n"
     ]
    }
   ],
   "source": [
    "!pip install Pillow"
   ]
  },
  {
   "cell_type": "code",
   "execution_count": 44,
   "id": "b8623404-9014-46d3-9e09-445466c246d1",
   "metadata": {},
   "outputs": [],
   "source": [
    "class ImageDataset:\n",
    "    \n",
    "    def __init__(self, path: Path, transforms):\n",
    "        self.img_pathes = list(path.rglob(\"*.jpg\"))\n",
    "        self.transforms = transforms\n",
    "        \n",
    "    def __len__(self):\n",
    "        return len(self.img_pathes)\n",
    "    \n",
    "    def __getitem__(self, index):\n",
    "        img_path = self.img_pathes[index]\n",
    "        img = Image.open(img_path)\n",
    "        img_array = np.array(img)\n",
    "        img = Image.fromarray(self.transforms(image=img_array)[\"image\"])\n",
    "        return {\n",
    "            \"image\": img,\n",
    "            \"label\": img_path.stem\n",
    "        }"
   ]
  },
  {
   "cell_type": "code",
   "execution_count": null,
   "id": "0440ac92-dd04-4471-b28e-32b7567aa07f",
   "metadata": {},
   "outputs": [],
   "source": [
    "transform = A.Compose([\n",
    "    A.RandomCrop(width=256, height=256),\n",
    "    A.HorizontalFlip(p=0.5),\n",
    "    A.RandomBrightnessContrast(p=0.2),\n",
    "])"
   ]
  },
  {
   "cell_type": "code",
   "execution_count": null,
   "id": "99b1ea52-7c10-4824-8190-4bb68dde3cac",
   "metadata": {},
   "outputs": [],
   "source": [
    "data = ImageDataset(Path(\"image\"), transform)"
   ]
  },
  {
   "cell_type": "code",
   "execution_count": null,
   "id": "46f39412-8d9c-4324-a94a-a47b4a4c23e3",
   "metadata": {},
   "outputs": [],
   "source": [
    "data[5][\"image\"]"
   ]
  },
  {
   "cell_type": "code",
   "execution_count": null,
   "id": "9751dd58-9ae6-4b03-b0e2-21c38a57208a",
   "metadata": {},
   "outputs": [],
   "source": []
  }
 ],
 "metadata": {
  "kernelspec": {
   "display_name": "Python 3 (ipykernel)",
   "language": "python",
   "name": "python3"
  },
  "language_info": {
   "codemirror_mode": {
    "name": "ipython",
    "version": 3
   },
   "file_extension": ".py",
   "mimetype": "text/x-python",
   "name": "python",
   "nbconvert_exporter": "python",
   "pygments_lexer": "ipython3",
   "version": "3.9.7"
  }
 },
 "nbformat": 4,
 "nbformat_minor": 5
}
