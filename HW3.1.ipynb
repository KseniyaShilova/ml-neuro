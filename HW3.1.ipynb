{
 "cells": [
  {
   "cell_type": "code",
   "execution_count": 4,
   "id": "6c30ba64-a461-4c53-8ba7-9714e8528344",
   "metadata": {
    "tags": []
   },
   "outputs": [],
   "source": [
    "import re\n",
    "from datetime import datetime\n",
    "\n",
    "import numpy as np\n",
    "import pandas as pd\n",
    "import seaborn as sns\n",
    "from sklearn.feature_extraction.text import CountVectorizer, TfidfVectorizer\n",
    "from sklearn.compose import ColumnTransformer\n",
    "from sklearn.pipeline import Pipeline\n",
    "from sklearn.linear_model import LogisticRegression\n",
    "from sklearn.model_selection import train_test_split\n",
    "from sklearn.metrics import mean_squared_error, mean_absolute_error, accuracy_score, precision_score, recall_score\n",
    "#from hyperopt import hp, fmin, tpe, Trials, STATUS_OK\n",
    "from sklearn import svm, datasets\n",
    "from sklearn.model_selection import GridSearchCV, KFold\n",
    "import nltk\n",
    "from nltk import wordpunct_tokenize, WordNetLemmatizer, SnowballStemmer\n",
    "from nltk.corpus import stopwords\n",
    "import gensim.downloader as api\n",
    "from sklearn.base import BaseEstimator, TransformerMixin\n"
   ]
  },
  {
   "cell_type": "code",
   "execution_count": 5,
   "id": "116f54d7-1f14-462c-875b-1ae25a227667",
   "metadata": {
    "tags": []
   },
   "outputs": [
    {
     "data": {
      "text/html": [
       "<div>\n",
       "<style scoped>\n",
       "    .dataframe tbody tr th:only-of-type {\n",
       "        vertical-align: middle;\n",
       "    }\n",
       "\n",
       "    .dataframe tbody tr th {\n",
       "        vertical-align: top;\n",
       "    }\n",
       "\n",
       "    .dataframe thead th {\n",
       "        text-align: right;\n",
       "    }\n",
       "</style>\n",
       "<table border=\"1\" class=\"dataframe\">\n",
       "  <thead>\n",
       "    <tr style=\"text-align: right;\">\n",
       "      <th></th>\n",
       "      <th>Text</th>\n",
       "      <th>Sentiment</th>\n",
       "    </tr>\n",
       "  </thead>\n",
       "  <tbody>\n",
       "    <tr>\n",
       "      <th>0</th>\n",
       "      <td>Kickers on my watchlist XIDE TIT SOQ PNK CPW B...</td>\n",
       "      <td>1</td>\n",
       "    </tr>\n",
       "    <tr>\n",
       "      <th>1</th>\n",
       "      <td>user: AAP MOVIE. 55% return for the FEA/GEED i...</td>\n",
       "      <td>1</td>\n",
       "    </tr>\n",
       "    <tr>\n",
       "      <th>2</th>\n",
       "      <td>user I'd be afraid to short AMZN - they are lo...</td>\n",
       "      <td>1</td>\n",
       "    </tr>\n",
       "    <tr>\n",
       "      <th>3</th>\n",
       "      <td>MNTA Over 12.00</td>\n",
       "      <td>1</td>\n",
       "    </tr>\n",
       "    <tr>\n",
       "      <th>4</th>\n",
       "      <td>OI  Over 21.37</td>\n",
       "      <td>1</td>\n",
       "    </tr>\n",
       "  </tbody>\n",
       "</table>\n",
       "</div>"
      ],
      "text/plain": [
       "                                                Text  Sentiment\n",
       "0  Kickers on my watchlist XIDE TIT SOQ PNK CPW B...          1\n",
       "1  user: AAP MOVIE. 55% return for the FEA/GEED i...          1\n",
       "2  user I'd be afraid to short AMZN - they are lo...          1\n",
       "3                                  MNTA Over 12.00            1\n",
       "4                                   OI  Over 21.37            1"
      ]
     },
     "execution_count": 5,
     "metadata": {},
     "output_type": "execute_result"
    }
   ],
   "source": [
    "df = pd.read_csv(\"Desktop\\stock_data.csv\")\n",
    "df.head()"
   ]
  },
  {
   "cell_type": "code",
   "execution_count": 6,
   "id": "39a3ef1a-d80b-4f12-9e86-c6deefc3ece3",
   "metadata": {
    "tags": []
   },
   "outputs": [
    {
     "data": {
      "text/plain": [
       "(5791, 2)"
      ]
     },
     "execution_count": 6,
     "metadata": {},
     "output_type": "execute_result"
    }
   ],
   "source": [
    "df.shape"
   ]
  },
  {
   "cell_type": "code",
   "execution_count": 7,
   "id": "3d461ab3-8049-4ce5-9c7b-19d6e5a5651d",
   "metadata": {},
   "outputs": [
    {
     "name": "stdout",
     "output_type": "stream",
     "text": [
      "<class 'pandas.core.frame.DataFrame'>\n",
      "RangeIndex: 5791 entries, 0 to 5790\n",
      "Data columns (total 2 columns):\n",
      " #   Column     Non-Null Count  Dtype \n",
      "---  ------     --------------  ----- \n",
      " 0   Text       5791 non-null   object\n",
      " 1   Sentiment  5791 non-null   int64 \n",
      "dtypes: int64(1), object(1)\n",
      "memory usage: 90.6+ KB\n"
     ]
    }
   ],
   "source": [
    "df.info()"
   ]
  },
  {
   "cell_type": "code",
   "execution_count": 8,
   "id": "acea08e1-a546-4946-aada-ffe5466571be",
   "metadata": {},
   "outputs": [],
   "source": [
    "#train_df[\"Text\"].sample().iloc[0]"
   ]
  },
  {
   "cell_type": "code",
   "execution_count": 46,
   "id": "8491885f-17f9-4aae-b08c-9f53e23ed3b2",
   "metadata": {},
   "outputs": [],
   "source": [
    "train_df, test_df = train_test_split(df, test_size=0.2, random_state=42)"
   ]
  },
  {
   "cell_type": "code",
   "execution_count": 47,
   "id": "dd786c7a-d0e5-4e96-878e-516d44aa6846",
   "metadata": {},
   "outputs": [
    {
     "data": {
      "text/html": [
       "<div>\n",
       "<style scoped>\n",
       "    .dataframe tbody tr th:only-of-type {\n",
       "        vertical-align: middle;\n",
       "    }\n",
       "\n",
       "    .dataframe tbody tr th {\n",
       "        vertical-align: top;\n",
       "    }\n",
       "\n",
       "    .dataframe thead th {\n",
       "        text-align: right;\n",
       "    }\n",
       "</style>\n",
       "<table border=\"1\" class=\"dataframe\">\n",
       "  <thead>\n",
       "    <tr style=\"text-align: right;\">\n",
       "      <th></th>\n",
       "      <th>Text</th>\n",
       "      <th>Sentiment</th>\n",
       "    </tr>\n",
       "  </thead>\n",
       "  <tbody>\n",
       "    <tr>\n",
       "      <th>4201</th>\n",
       "      <td>ove gnw!! 9-13 calls are making me feel better...</td>\n",
       "      <td>1</td>\n",
       "    </tr>\n",
       "    <tr>\n",
       "      <th>387</th>\n",
       "      <td>csn option trader buys 1,500 of the jan 11-16 ...</td>\n",
       "      <td>1</td>\n",
       "    </tr>\n",
       "    <tr>\n",
       "      <th>4385</th>\n",
       "      <td>people slag aap for cannibalization but samsun...</td>\n",
       "      <td>1</td>\n",
       "    </tr>\n",
       "    <tr>\n",
       "      <th>5773</th>\n",
       "      <td>sensex opens 166 points lower at 35,469, nifty...</td>\n",
       "      <td>-1</td>\n",
       "    </tr>\n",
       "    <tr>\n",
       "      <th>2348</th>\n",
       "      <td>csod conf call: ceo: feeling good about our po...</td>\n",
       "      <td>1</td>\n",
       "    </tr>\n",
       "  </tbody>\n",
       "</table>\n",
       "</div>"
      ],
      "text/plain": [
       "                                                   Text  Sentiment\n",
       "4201  ove gnw!! 9-13 calls are making me feel better...          1\n",
       "387   csn option trader buys 1,500 of the jan 11-16 ...          1\n",
       "4385  people slag aap for cannibalization but samsun...          1\n",
       "5773  sensex opens 166 points lower at 35,469, nifty...         -1\n",
       "2348  csod conf call: ceo: feeling good about our po...          1"
      ]
     },
     "execution_count": 47,
     "metadata": {},
     "output_type": "execute_result"
    }
   ],
   "source": [
    "train_df.head()"
   ]
  },
  {
   "cell_type": "code",
   "execution_count": 48,
   "id": "a7ff0f52-f884-4d96-a720-09d145598fb0",
   "metadata": {},
   "outputs": [
    {
     "data": {
      "text/html": [
       "<div>\n",
       "<style scoped>\n",
       "    .dataframe tbody tr th:only-of-type {\n",
       "        vertical-align: middle;\n",
       "    }\n",
       "\n",
       "    .dataframe tbody tr th {\n",
       "        vertical-align: top;\n",
       "    }\n",
       "\n",
       "    .dataframe thead th {\n",
       "        text-align: right;\n",
       "    }\n",
       "</style>\n",
       "<table border=\"1\" class=\"dataframe\">\n",
       "  <thead>\n",
       "    <tr style=\"text-align: right;\">\n",
       "      <th></th>\n",
       "      <th>Text</th>\n",
       "      <th>Sentiment</th>\n",
       "    </tr>\n",
       "  </thead>\n",
       "  <tbody>\n",
       "    <tr>\n",
       "      <th>1891</th>\n",
       "      <td>mcp take-over chatter... (i know don't laugh...)</td>\n",
       "      <td>-1</td>\n",
       "    </tr>\n",
       "    <tr>\n",
       "      <th>1550</th>\n",
       "      <td>amzn 1,200 lot bid in the feb weekly 255p. 27 ...</td>\n",
       "      <td>-1</td>\n",
       "    </tr>\n",
       "    <tr>\n",
       "      <th>1049</th>\n",
       "      <td>ko made with sugar is sold at local cost. cons...</td>\n",
       "      <td>1</td>\n",
       "    </tr>\n",
       "    <tr>\n",
       "      <th>2523</th>\n",
       "      <td>hnz another american institution sold to forei...</td>\n",
       "      <td>-1</td>\n",
       "    </tr>\n",
       "    <tr>\n",
       "      <th>156</th>\n",
       "      <td>will watch the close carefully then decide whe...</td>\n",
       "      <td>-1</td>\n",
       "    </tr>\n",
       "  </tbody>\n",
       "</table>\n",
       "</div>"
      ],
      "text/plain": [
       "                                                   Text  Sentiment\n",
       "1891   mcp take-over chatter... (i know don't laugh...)         -1\n",
       "1550  amzn 1,200 lot bid in the feb weekly 255p. 27 ...         -1\n",
       "1049  ko made with sugar is sold at local cost. cons...          1\n",
       "2523  hnz another american institution sold to forei...         -1\n",
       "156   will watch the close carefully then decide whe...         -1"
      ]
     },
     "execution_count": 48,
     "metadata": {},
     "output_type": "execute_result"
    }
   ],
   "source": [
    "test_df.head()"
   ]
  },
  {
   "cell_type": "code",
   "execution_count": null,
   "id": "002c0842-047e-4e16-bb53-274b63fe3579",
   "metadata": {},
   "outputs": [],
   "source": []
  },
  {
   "cell_type": "code",
   "execution_count": 49,
   "id": "696c34e2-5841-46c2-ad45-28852d6596a8",
   "metadata": {},
   "outputs": [
    {
     "data": {
      "text/html": [
       "<div>\n",
       "<style scoped>\n",
       "    .dataframe tbody tr th:only-of-type {\n",
       "        vertical-align: middle;\n",
       "    }\n",
       "\n",
       "    .dataframe tbody tr th {\n",
       "        vertical-align: top;\n",
       "    }\n",
       "\n",
       "    .dataframe thead th {\n",
       "        text-align: right;\n",
       "    }\n",
       "</style>\n",
       "<table border=\"1\" class=\"dataframe\">\n",
       "  <thead>\n",
       "    <tr style=\"text-align: right;\">\n",
       "      <th></th>\n",
       "      <th>Text</th>\n",
       "      <th>Sentiment</th>\n",
       "    </tr>\n",
       "  </thead>\n",
       "  <tbody>\n",
       "    <tr>\n",
       "      <th>0</th>\n",
       "      <td>kickers on my watchlist xide tit soq pnk cpw b...</td>\n",
       "      <td>1</td>\n",
       "    </tr>\n",
       "    <tr>\n",
       "      <th>1</th>\n",
       "      <td>user: aap movie. 55% return for the fea/geed i...</td>\n",
       "      <td>1</td>\n",
       "    </tr>\n",
       "    <tr>\n",
       "      <th>2</th>\n",
       "      <td>user i'd be afraid to short amzn - they are lo...</td>\n",
       "      <td>1</td>\n",
       "    </tr>\n",
       "    <tr>\n",
       "      <th>3</th>\n",
       "      <td>mnta over 12.00</td>\n",
       "      <td>1</td>\n",
       "    </tr>\n",
       "    <tr>\n",
       "      <th>4</th>\n",
       "      <td>oi  over 21.37</td>\n",
       "      <td>1</td>\n",
       "    </tr>\n",
       "  </tbody>\n",
       "</table>\n",
       "</div>"
      ],
      "text/plain": [
       "                                                Text  Sentiment\n",
       "0  kickers on my watchlist xide tit soq pnk cpw b...          1\n",
       "1  user: aap movie. 55% return for the fea/geed i...          1\n",
       "2  user i'd be afraid to short amzn - they are lo...          1\n",
       "3                                  mnta over 12.00            1\n",
       "4                                   oi  over 21.37            1"
      ]
     },
     "execution_count": 49,
     "metadata": {},
     "output_type": "execute_result"
    }
   ],
   "source": [
    "df[\"Text\"] = df[\"Text\"].str.lower()\n",
    "df.head()"
   ]
  },
  {
   "cell_type": "code",
   "execution_count": 50,
   "id": "ccdd7aed-a359-4fc1-9dcf-648a42d3cef9",
   "metadata": {},
   "outputs": [],
   "source": [
    "stem = SnowballStemmer(\"english\")\n",
    "lemma = WordNetLemmatizer()"
   ]
  },
  {
   "cell_type": "code",
   "execution_count": 51,
   "id": "79bedd9c-086a-419c-be32-8d63848748b9",
   "metadata": {},
   "outputs": [
    {
     "data": {
      "text/plain": [
       "'Earnings'"
      ]
     },
     "execution_count": 51,
     "metadata": {},
     "output_type": "execute_result"
    }
   ],
   "source": [
    "stem.stem(\"Earnings\")\n",
    "lemma.lemmatize(\"Earnings\")"
   ]
  },
  {
   "cell_type": "code",
   "execution_count": 52,
   "id": "f9fcbdd0-c012-464b-8d02-9c7cfb036259",
   "metadata": {},
   "outputs": [],
   "source": [
    "stop_words = set(stopwords.words(\"english\"))"
   ]
  },
  {
   "cell_type": "code",
   "execution_count": 53,
   "id": "8ae63f67-515b-48ad-8718-fb37045e3656",
   "metadata": {
    "tags": []
   },
   "outputs": [],
   "source": [
    "stop_words.remove(\"not\")"
   ]
  },
  {
   "cell_type": "code",
   "execution_count": 54,
   "id": "700b9358-8e46-453e-a69e-029f1f2ff0f6",
   "metadata": {},
   "outputs": [],
   "source": [
    "stop_words.remove(\"no\")"
   ]
  },
  {
   "cell_type": "code",
   "execution_count": 55,
   "id": "1b21014c-27b1-40a0-b2b8-97ada04455bb",
   "metadata": {},
   "outputs": [],
   "source": [
    "def clean_text(text):\n",
    "    # приводим текст к нижнему регистру\n",
    "    text = text.lower()\n",
    "    # создаем регулярное выражение для удаления лишних символов\n",
    "    regular = r'[\\*+\\#+\\№\\\"\\-+\\+\\=+\\?+\\&\\^\\.+\\;\\,+\\>+\\(\\)\\/+\\:\\\\+]'\n",
    "    # регулярное выражение для замены ссылки на \"URL\"\n",
    "    regular_url = r'(http\\S+)|(www\\S+)|([\\w\\d]+www\\S+)|([\\w\\d]+http\\S+)'\n",
    "    # удаляем лишние символы\n",
    "    text = re.sub(regular, '', text)\n",
    "    # заменяем ссылки на \"URL\"\n",
    "    text = re.sub(regular_url, r'URL', text)\n",
    "    # заменяем числа и цифры на ' NUM '\n",
    "    text = re.sub(r'(\\d+\\s\\d+)|(\\d+)',' NUM ', text)\n",
    "    # удаляем лишние пробелы\n",
    "    text = re.sub(r'\\s+', ' ', text)\n",
    "    # возвращаем очищенные данные\n",
    "    return text\n",
    " \n",
    "# создаем список для хранения очищенных данных\n",
    "cleaned_text = []\n",
    "# для каждого сообщения text из столбца data['Message']\n",
    "for text in df['Text']:\n",
    "    # очищаем данные  \n",
    "    text = clean_text(text)\n",
    "    # добавляем очищенные данные в список cleaned_text\n",
    "    cleaned_text.append(text)\n",
    "# записываем очищенные данные в новую колонку 'Cleaned_msg'\n",
    "#df['Cleaned_msg'] = cleaned_text"
   ]
  },
  {
   "cell_type": "code",
   "execution_count": null,
   "id": "5a419f33-76fc-4fba-964f-5743589b3d15",
   "metadata": {},
   "outputs": [],
   "source": []
  },
  {
   "cell_type": "code",
   "execution_count": 56,
   "id": "c2d75d33-f6ab-4c25-8841-5983bcf33ce0",
   "metadata": {},
   "outputs": [],
   "source": [
    "#list(train_df[\"Text\"].sample(20))"
   ]
  },
  {
   "cell_type": "code",
   "execution_count": 57,
   "id": "fdecea08-0850-4d29-b244-786baa1f5bf1",
   "metadata": {},
   "outputs": [],
   "source": [
    "train_df[\"Text_proceed\"] = train_df[\"Text\"].apply(clean_text)\n",
    "test_df[\"Text_proceed\"] = test_df[\"Text\"].apply(clean_text)"
   ]
  },
  {
   "cell_type": "code",
   "execution_count": 58,
   "id": "517d4b7a-b2b8-44d2-9c5c-e1675d316e2d",
   "metadata": {},
   "outputs": [
    {
     "data": {
      "text/plain": [
       "4201    ove gnw!! NUM calls are making me feel better ...\n",
       "387     csn option trader buys NUM of the jan NUM call...\n",
       "4385    people slag aap for cannibalization but samsun...\n",
       "5773    sensex opens NUM points lower at NUM nifty sta...\n",
       "2348    csod conf call ceo feeling good about our posi...\n",
       "                              ...                        \n",
       "3772    aap we break and close below this support NUM ...\n",
       "5191    new industry data provide the first hard look ...\n",
       "5226    rt @jchengwsj in hindsight wall street probabl...\n",
       "5390    global stocks fall after president trump issue...\n",
       "860     hpq how many upgrades tomorrow assuming autono...\n",
       "Name: Text_proceed, Length: 4632, dtype: object"
      ]
     },
     "execution_count": 58,
     "metadata": {},
     "output_type": "execute_result"
    }
   ],
   "source": [
    "train_df[\"Text_proceed\"]"
   ]
  },
  {
   "cell_type": "code",
   "execution_count": 59,
   "id": "51beff7e-b004-4053-80d8-facef77633a2",
   "metadata": {},
   "outputs": [],
   "source": [
    "COLS_TO_FIT = \"Text_proceed\"\n",
    "TARGET_COL = \"Sentiment\""
   ]
  },
  {
   "cell_type": "code",
   "execution_count": 60,
   "id": "9e42e950-506c-4a06-ad51-a96821f11fc4",
   "metadata": {},
   "outputs": [],
   "source": [
    "class Word2VecModel(BaseEstimator, TransformerMixin):\n",
    "    \n",
    "    def __init__(self, model):\n",
    "        self.model = model\n",
    "        \n",
    "    def get_mean_vector(self, text):\n",
    "        v = np.zeros(300)\n",
    "        c = 0\n",
    "        for word in text.split(\" \"):\n",
    "            if word in self.model:\n",
    "                v += self.model.get_vector(word)\n",
    "                c += 1\n",
    "        c = max(43, c)\n",
    "        return v / c\n",
    "        \n",
    "    def fit(self, X, y):\n",
    "        return self\n",
    "    \n",
    "    def transform(self, X):\n",
    "        return np.array([self.get_mean_vector(x) for x in X])"
   ]
  },
  {
   "cell_type": "code",
   "execution_count": 61,
   "id": "59a0001e-b568-4d32-8e73-fcef8d84d1da",
   "metadata": {},
   "outputs": [
    {
     "data": {
      "text/html": [
       "<div>\n",
       "<style scoped>\n",
       "    .dataframe tbody tr th:only-of-type {\n",
       "        vertical-align: middle;\n",
       "    }\n",
       "\n",
       "    .dataframe tbody tr th {\n",
       "        vertical-align: top;\n",
       "    }\n",
       "\n",
       "    .dataframe thead th {\n",
       "        text-align: right;\n",
       "    }\n",
       "</style>\n",
       "<table border=\"1\" class=\"dataframe\">\n",
       "  <thead>\n",
       "    <tr style=\"text-align: right;\">\n",
       "      <th></th>\n",
       "      <th>Text</th>\n",
       "      <th>Sentiment</th>\n",
       "      <th>Text_proceed</th>\n",
       "    </tr>\n",
       "  </thead>\n",
       "  <tbody>\n",
       "    <tr>\n",
       "      <th>1891</th>\n",
       "      <td>mcp take-over chatter... (i know don't laugh...)</td>\n",
       "      <td>-1</td>\n",
       "      <td>mcp takeover chatter i know don't laugh</td>\n",
       "    </tr>\n",
       "    <tr>\n",
       "      <th>1550</th>\n",
       "      <td>amzn 1,200 lot bid in the feb weekly 255p. 27 ...</td>\n",
       "      <td>-1</td>\n",
       "      <td>amzn NUM lot bid in the feb weekly NUM p NUM d...</td>\n",
       "    </tr>\n",
       "    <tr>\n",
       "      <th>1049</th>\n",
       "      <td>ko made with sugar is sold at local cost. cons...</td>\n",
       "      <td>1</td>\n",
       "      <td>ko made with sugar is sold at local cost consu...</td>\n",
       "    </tr>\n",
       "    <tr>\n",
       "      <th>2523</th>\n",
       "      <td>hnz another american institution sold to forei...</td>\n",
       "      <td>-1</td>\n",
       "      <td>hnz another american institution sold to forei...</td>\n",
       "    </tr>\n",
       "    <tr>\n",
       "      <th>156</th>\n",
       "      <td>will watch the close carefully then decide whe...</td>\n",
       "      <td>-1</td>\n",
       "      <td>will watch the close carefully then decide whe...</td>\n",
       "    </tr>\n",
       "  </tbody>\n",
       "</table>\n",
       "</div>"
      ],
      "text/plain": [
       "                                                   Text  Sentiment  \\\n",
       "1891   mcp take-over chatter... (i know don't laugh...)         -1   \n",
       "1550  amzn 1,200 lot bid in the feb weekly 255p. 27 ...         -1   \n",
       "1049  ko made with sugar is sold at local cost. cons...          1   \n",
       "2523  hnz another american institution sold to forei...         -1   \n",
       "156   will watch the close carefully then decide whe...         -1   \n",
       "\n",
       "                                           Text_proceed  \n",
       "1891            mcp takeover chatter i know don't laugh  \n",
       "1550  amzn NUM lot bid in the feb weekly NUM p NUM d...  \n",
       "1049  ko made with sugar is sold at local cost consu...  \n",
       "2523  hnz another american institution sold to forei...  \n",
       "156   will watch the close carefully then decide whe...  "
      ]
     },
     "execution_count": 61,
     "metadata": {},
     "output_type": "execute_result"
    }
   ],
   "source": [
    "test_df.head()"
   ]
  },
  {
   "cell_type": "code",
   "execution_count": null,
   "id": "8719718d-e189-41b6-92a0-c40d60f3c9de",
   "metadata": {},
   "outputs": [],
   "source": []
  },
  {
   "cell_type": "code",
   "execution_count": 62,
   "id": "8c16769b-8096-40b1-9e66-45b4b89e5eb3",
   "metadata": {},
   "outputs": [],
   "source": [
    "random_state=None"
   ]
  },
  {
   "cell_type": "code",
   "execution_count": 63,
   "id": "77c358a5-e970-4d3c-a06a-81ffc65b7ea3",
   "metadata": {},
   "outputs": [],
   "source": [
    "def train_and_validate(model, train_df, test_df):\n",
    "    model.fit(train_df[COLS_TO_FIT], train_df[TARGET_COL])\n",
    "    pr = model.predict(test_df[COLS_TO_FIT])\n",
    "    mse = mean_squared_error(test_df[TARGET_COL], pr)\n",
    "    out = accuracy_score(test_df[TARGET_COL], pr)\n",
    "    print(f\"mse: {mean_squared_error(test_df[TARGET_COL], pr):.3f}\")\n",
    "    print(f\"mae: {mean_absolute_error(test_df[TARGET_COL], pr):.3f}\")\n",
    "    print(f\"out: {accuracy_score(test_df[TARGET_COL], pr):.3f}\")\n",
    "    return out"
   ]
  },
  {
   "cell_type": "code",
   "execution_count": 64,
   "id": "5a8eabe6-3c29-4969-8d86-fb54d28a1a23",
   "metadata": {},
   "outputs": [],
   "source": [
    "pipe = Pipeline([\n",
    "    (\"vectorizer\", CountVectorizer()),\n",
    "    (\"model\", LogisticRegression()),\n",
    "])"
   ]
  },
  {
   "cell_type": "code",
   "execution_count": 65,
   "id": "246da552-fca3-4f05-8ef5-280301d09f61",
   "metadata": {},
   "outputs": [
    {
     "name": "stdout",
     "output_type": "stream",
     "text": [
      "mse: 0.808\n",
      "mae: 0.404\n",
      "out: 0.798\n"
     ]
    },
    {
     "name": "stderr",
     "output_type": "stream",
     "text": [
      "C:\\Users\\User\\miniconda3\\envs\\mlisuct\\lib\\site-packages\\sklearn\\linear_model\\_logistic.py:814: ConvergenceWarning: lbfgs failed to converge (status=1):\n",
      "STOP: TOTAL NO. of ITERATIONS REACHED LIMIT.\n",
      "\n",
      "Increase the number of iterations (max_iter) or scale the data as shown in:\n",
      "    https://scikit-learn.org/stable/modules/preprocessing.html\n",
      "Please also refer to the documentation for alternative solver options:\n",
      "    https://scikit-learn.org/stable/modules/linear_model.html#logistic-regression\n",
      "  n_iter_i = _check_optimize_result(\n"
     ]
    },
    {
     "data": {
      "text/plain": [
       "0.7981018119068162"
      ]
     },
     "execution_count": 65,
     "metadata": {},
     "output_type": "execute_result"
    }
   ],
   "source": [
    "train_and_validate(pipe, train_df, test_df)"
   ]
  },
  {
   "cell_type": "code",
   "execution_count": 66,
   "id": "78252f14-f6dc-49b2-938e-4bdc043693c8",
   "metadata": {},
   "outputs": [],
   "source": [
    "pipe = Pipeline([\n",
    "    (\"vectorizer\", CountVectorizer(ngram_range=(1, 1), min_df = 2, max_df=0.1)),\n",
    "    (\"model\", LogisticRegression()),\n",
    "])"
   ]
  },
  {
   "cell_type": "code",
   "execution_count": 67,
   "id": "b38256f2-fde5-498c-b9ba-1f583a46d0e4",
   "metadata": {},
   "outputs": [],
   "source": [
    "random_state=None"
   ]
  },
  {
   "cell_type": "code",
   "execution_count": 68,
   "id": "20f6d676-8be2-422a-bd6f-6e82a69eb89a",
   "metadata": {},
   "outputs": [
    {
     "name": "stdout",
     "output_type": "stream",
     "text": [
      "mse: 0.794\n",
      "mae: 0.397\n",
      "out: 0.802\n"
     ]
    },
    {
     "data": {
      "text/plain": [
       "0.8015530629853321"
      ]
     },
     "execution_count": 68,
     "metadata": {},
     "output_type": "execute_result"
    }
   ],
   "source": [
    "train_and_validate(pipe, train_df, test_df)"
   ]
  },
  {
   "cell_type": "code",
   "execution_count": 69,
   "id": "6697e054-eada-4580-86d8-39f31682580b",
   "metadata": {},
   "outputs": [],
   "source": [
    "random_state=None"
   ]
  },
  {
   "cell_type": "code",
   "execution_count": 70,
   "id": "11a50cfd-f94c-4c79-97fa-45d58ce27288",
   "metadata": {},
   "outputs": [],
   "source": [
    "pipe = Pipeline([\n",
    "    (\"vectorizer\", CountVectorizer(ngram_range=(1, 2))),\n",
    "    (\"model\", LogisticRegression(C=3.9, penalty=\"elasticnet\", solver=\"saga\", l1_ratio=1))\n",
    "])"
   ]
  },
  {
   "cell_type": "code",
   "execution_count": 71,
   "id": "4b7fd98b-0da0-4ae2-9c78-5334409c0b8b",
   "metadata": {},
   "outputs": [
    {
     "name": "stdout",
     "output_type": "stream",
     "text": [
      "mse: 0.745\n",
      "mae: 0.373\n",
      "out: 0.814\n"
     ]
    },
    {
     "name": "stderr",
     "output_type": "stream",
     "text": [
      "C:\\Users\\User\\miniconda3\\envs\\mlisuct\\lib\\site-packages\\sklearn\\linear_model\\_sag.py:352: ConvergenceWarning: The max_iter was reached which means the coef_ did not converge\n",
      "  warnings.warn(\n"
     ]
    },
    {
     "data": {
      "text/plain": [
       "0.813632441760138"
      ]
     },
     "execution_count": 71,
     "metadata": {},
     "output_type": "execute_result"
    }
   ],
   "source": [
    "train_and_validate(pipe, train_df, test_df)"
   ]
  },
  {
   "cell_type": "code",
   "execution_count": 72,
   "id": "6821f091-738f-412c-994c-caa9a2ad1da4",
   "metadata": {},
   "outputs": [],
   "source": [
    "pipe = Pipeline([\n",
    "    (\"vectorizer\", CountVectorizer()),\n",
    "    (\"model\", LogisticRegression()),\n",
    "])"
   ]
  },
  {
   "cell_type": "code",
   "execution_count": 73,
   "id": "8a633000-793b-435b-a55b-4e18c1f54783",
   "metadata": {},
   "outputs": [
    {
     "name": "stdout",
     "output_type": "stream",
     "text": [
      "mse: 0.808\n",
      "mae: 0.404\n",
      "out: 0.798\n"
     ]
    },
    {
     "name": "stderr",
     "output_type": "stream",
     "text": [
      "C:\\Users\\User\\miniconda3\\envs\\mlisuct\\lib\\site-packages\\sklearn\\linear_model\\_logistic.py:814: ConvergenceWarning: lbfgs failed to converge (status=1):\n",
      "STOP: TOTAL NO. of ITERATIONS REACHED LIMIT.\n",
      "\n",
      "Increase the number of iterations (max_iter) or scale the data as shown in:\n",
      "    https://scikit-learn.org/stable/modules/preprocessing.html\n",
      "Please also refer to the documentation for alternative solver options:\n",
      "    https://scikit-learn.org/stable/modules/linear_model.html#logistic-regression\n",
      "  n_iter_i = _check_optimize_result(\n"
     ]
    },
    {
     "data": {
      "text/plain": [
       "0.7981018119068162"
      ]
     },
     "execution_count": 73,
     "metadata": {},
     "output_type": "execute_result"
    }
   ],
   "source": [
    "train_and_validate(pipe, train_df, test_df)"
   ]
  },
  {
   "cell_type": "code",
   "execution_count": null,
   "id": "13b0a056-503a-44d3-a76d-e749a1e9e0a7",
   "metadata": {},
   "outputs": [],
   "source": []
  },
  {
   "cell_type": "code",
   "execution_count": 74,
   "id": "de5f88e9-d4e1-4105-a6ed-5383e4bae138",
   "metadata": {},
   "outputs": [],
   "source": [
    "model = api.load(\"word2vec-google-news-300\")"
   ]
  },
  {
   "cell_type": "code",
   "execution_count": 75,
   "id": "f2314060-e0d4-4f44-9faa-7d59d22eaac3",
   "metadata": {},
   "outputs": [],
   "source": [
    "pipe = Pipeline([\n",
    "    (\"vectorizer\", CountVectorizer(ngram_range=(1, 9), min_df = 1, max_df=0.1)),\n",
    "    (\"model\", LogisticRegression(C=0.91, penalty=\"l1\", solver=\"saga\")),\n",
    "])"
   ]
  },
  {
   "cell_type": "code",
   "execution_count": 76,
   "id": "9feaf999-5e72-4766-bb3a-2486026a35d2",
   "metadata": {},
   "outputs": [
    {
     "name": "stderr",
     "output_type": "stream",
     "text": [
      "C:\\Users\\User\\miniconda3\\envs\\mlisuct\\lib\\site-packages\\sklearn\\linear_model\\_sag.py:352: ConvergenceWarning: The max_iter was reached which means the coef_ did not converge\n",
      "  warnings.warn(\n"
     ]
    },
    {
     "name": "stdout",
     "output_type": "stream",
     "text": [
      "mse: 0.766\n",
      "mae: 0.383\n",
      "out: 0.808\n"
     ]
    },
    {
     "data": {
      "text/plain": [
       "0.808455565142364"
      ]
     },
     "execution_count": 76,
     "metadata": {},
     "output_type": "execute_result"
    }
   ],
   "source": [
    "train_and_validate(pipe, train_df, test_df)"
   ]
  },
  {
   "cell_type": "code",
   "execution_count": 77,
   "id": "63b59509-12e7-42b6-8512-e817b91a04e6",
   "metadata": {},
   "outputs": [],
   "source": [
    "pipe = Pipeline([\n",
    "    (\"vectorizer\", CountVectorizer(ngram_range=(1, 2))),\n",
    "    (\"model\", LogisticRegression(C=3.9, penalty=\"elasticnet\", solver=\"saga\", l1_ratio=1)),\n",
    "])"
   ]
  },
  {
   "cell_type": "code",
   "execution_count": 78,
   "id": "396e883b-ad77-4d93-b887-d8d46ed499e5",
   "metadata": {},
   "outputs": [
    {
     "name": "stdout",
     "output_type": "stream",
     "text": [
      "mse: 0.752\n",
      "mae: 0.376\n",
      "out: 0.812\n"
     ]
    },
    {
     "name": "stderr",
     "output_type": "stream",
     "text": [
      "C:\\Users\\User\\miniconda3\\envs\\mlisuct\\lib\\site-packages\\sklearn\\linear_model\\_sag.py:352: ConvergenceWarning: The max_iter was reached which means the coef_ did not converge\n",
      "  warnings.warn(\n"
     ]
    },
    {
     "data": {
      "text/plain": [
       "0.8119068162208801"
      ]
     },
     "execution_count": 78,
     "metadata": {},
     "output_type": "execute_result"
    }
   ],
   "source": [
    "train_and_validate(pipe, train_df, test_df)"
   ]
  },
  {
   "cell_type": "code",
   "execution_count": 79,
   "id": "28c0cb7a-2948-48c3-9488-d75f4b129a5c",
   "metadata": {},
   "outputs": [],
   "source": [
    "pipe = Pipeline([\n",
    "    (\"vectorizer\", CountVectorizer(ngram_range=(1, 9))),\n",
    "    (\"model\", LogisticRegression(C=3.91, penalty=\"l1\", solver=\"saga\")),\n",
    "])"
   ]
  },
  {
   "cell_type": "code",
   "execution_count": 80,
   "id": "16c62468-d674-4f17-bda7-80d8ab1d0ec7",
   "metadata": {},
   "outputs": [
    {
     "name": "stderr",
     "output_type": "stream",
     "text": [
      "C:\\Users\\User\\miniconda3\\envs\\mlisuct\\lib\\site-packages\\sklearn\\linear_model\\_sag.py:352: ConvergenceWarning: The max_iter was reached which means the coef_ did not converge\n",
      "  warnings.warn(\n"
     ]
    },
    {
     "name": "stdout",
     "output_type": "stream",
     "text": [
      "mse: 0.728\n",
      "mae: 0.364\n",
      "out: 0.818\n"
     ]
    },
    {
     "data": {
      "text/plain": [
       "0.817946505608283"
      ]
     },
     "execution_count": 80,
     "metadata": {},
     "output_type": "execute_result"
    }
   ],
   "source": [
    "train_and_validate(pipe, train_df, test_df)"
   ]
  },
  {
   "cell_type": "code",
   "execution_count": 81,
   "id": "e24f6e71-5526-4a6f-ac6a-2158b37d7602",
   "metadata": {},
   "outputs": [],
   "source": [
    "pipe = Pipeline([\n",
    "    (\"vectorizer\", CountVectorizer(ngram_range=(1, 9))),\n",
    "    (\"model\", LogisticRegression(C=3.99, penalty=\"l1\", solver=\"saga\")),\n",
    "])"
   ]
  },
  {
   "cell_type": "markdown",
   "id": "d623b1f6-5cd5-43fb-ad5e-e0ebe5eac2c2",
   "metadata": {},
   "source": [
    "# самый лучший результат"
   ]
  },
  {
   "cell_type": "code",
   "execution_count": 82,
   "id": "54222716-cd77-4b2a-b2df-b160eeb97f40",
   "metadata": {},
   "outputs": [
    {
     "name": "stderr",
     "output_type": "stream",
     "text": [
      "C:\\Users\\User\\miniconda3\\envs\\mlisuct\\lib\\site-packages\\sklearn\\linear_model\\_sag.py:352: ConvergenceWarning: The max_iter was reached which means the coef_ did not converge\n",
      "  warnings.warn(\n"
     ]
    },
    {
     "name": "stdout",
     "output_type": "stream",
     "text": [
      "mse: 0.725\n",
      "mae: 0.362\n",
      "out: 0.819\n"
     ]
    },
    {
     "data": {
      "text/plain": [
       "0.818809318377912"
      ]
     },
     "execution_count": 82,
     "metadata": {},
     "output_type": "execute_result"
    }
   ],
   "source": [
    "train_and_validate(pipe, train_df, test_df)"
   ]
  },
  {
   "cell_type": "code",
   "execution_count": null,
   "id": "b1039f71-a9b6-43d0-be11-01d2069fb7ac",
   "metadata": {},
   "outputs": [],
   "source": []
  },
  {
   "cell_type": "code",
   "execution_count": 43,
   "id": "2251d429-1080-427d-85b3-d2b399ceb8c8",
   "metadata": {},
   "outputs": [],
   "source": [
    "pipe = Pipeline([\n",
    "    (\"vectorizer\", CountVectorizer(ngram_range=(1, 9))),\n",
    "    (\"model\", LogisticRegression(C=9.99, penalty=\"l1\", solver=\"saga\")),\n",
    "])"
   ]
  },
  {
   "cell_type": "code",
   "execution_count": 44,
   "id": "0dce5498-1012-445d-908f-d110613b175d",
   "metadata": {},
   "outputs": [
    {
     "name": "stderr",
     "output_type": "stream",
     "text": [
      "C:\\Users\\User\\miniconda3\\envs\\mlisuct\\lib\\site-packages\\sklearn\\linear_model\\_sag.py:352: ConvergenceWarning: The max_iter was reached which means the coef_ did not converge\n",
      "  warnings.warn(\n"
     ]
    },
    {
     "name": "stdout",
     "output_type": "stream",
     "text": [
      "mse: 0.773\n",
      "mae: 0.387\n",
      "out: 0.807\n"
     ]
    },
    {
     "data": {
      "text/plain": [
       "0.8067299396031061"
      ]
     },
     "execution_count": 44,
     "metadata": {},
     "output_type": "execute_result"
    }
   ],
   "source": [
    "train_and_validate(pipe, train_df, test_df)"
   ]
  },
  {
   "cell_type": "code",
   "execution_count": null,
   "id": "eab693e1-d0de-4a1a-8fff-505da9533747",
   "metadata": {},
   "outputs": [],
   "source": []
  },
  {
   "cell_type": "code",
   "execution_count": 45,
   "id": "f21a58da-606a-4741-8b13-b9e0a8a26afb",
   "metadata": {},
   "outputs": [],
   "source": [
    "pipe = Pipeline([\n",
    "    (\"vectorizer\", CountVectorizer(token_pattern=r\"\\S+\", ngram_range=(1, 1), min_df = 1, max_df=0.1)),\n",
    "    (\"model\", LogisticRegression(C=0.99, penalty=\"l2\", solver=\"saga\")),\n",
    "])"
   ]
  },
  {
   "cell_type": "code",
   "execution_count": 46,
   "id": "f14bd1e2-ae3f-4df7-8fa6-ed24af05cdec",
   "metadata": {},
   "outputs": [
    {
     "name": "stdout",
     "output_type": "stream",
     "text": [
      "mse: 0.787\n",
      "mae: 0.393\n",
      "out: 0.803\n"
     ]
    },
    {
     "name": "stderr",
     "output_type": "stream",
     "text": [
      "C:\\Users\\User\\miniconda3\\envs\\mlisuct\\lib\\site-packages\\sklearn\\linear_model\\_sag.py:352: ConvergenceWarning: The max_iter was reached which means the coef_ did not converge\n",
      "  warnings.warn(\n"
     ]
    },
    {
     "data": {
      "text/plain": [
       "0.8032786885245902"
      ]
     },
     "execution_count": 46,
     "metadata": {},
     "output_type": "execute_result"
    }
   ],
   "source": [
    "train_and_validate(pipe, train_df, test_df)"
   ]
  },
  {
   "cell_type": "code",
   "execution_count": null,
   "id": "92559902-90a8-49b6-8a7d-0c644b028f7e",
   "metadata": {},
   "outputs": [],
   "source": []
  },
  {
   "cell_type": "code",
   "execution_count": 47,
   "id": "d84ff7ff-a671-4139-b49a-5c4e3caaef71",
   "metadata": {},
   "outputs": [],
   "source": [
    "pipe = Pipeline([\n",
    "    (\"vectorizer\", CountVectorizer(ngram_range=(1, 2), min_df = 1, max_df=0.1)),\n",
    "    (\"model\", LogisticRegression(C=3.9, penalty=\"elasticnet\", solver=\"saga\", l1_ratio=1)),\n",
    "])"
   ]
  },
  {
   "cell_type": "code",
   "execution_count": 48,
   "id": "7a7486be-869a-49db-a857-2ca6f3f8badf",
   "metadata": {},
   "outputs": [
    {
     "name": "stdout",
     "output_type": "stream",
     "text": [
      "mse: 0.787\n",
      "mae: 0.393\n",
      "out: 0.803\n"
     ]
    },
    {
     "name": "stderr",
     "output_type": "stream",
     "text": [
      "C:\\Users\\User\\miniconda3\\envs\\mlisuct\\lib\\site-packages\\sklearn\\linear_model\\_sag.py:352: ConvergenceWarning: The max_iter was reached which means the coef_ did not converge\n",
      "  warnings.warn(\n"
     ]
    },
    {
     "data": {
      "text/plain": [
       "0.8032786885245902"
      ]
     },
     "execution_count": 48,
     "metadata": {},
     "output_type": "execute_result"
    }
   ],
   "source": [
    "train_and_validate(pipe, train_df, test_df)"
   ]
  },
  {
   "cell_type": "markdown",
   "id": "05cb9a26-acf0-4daf-8ee0-352dbe9caacc",
   "metadata": {},
   "source": [
    "pipe = Pipeline([\n",
    "    (\"vectorizer\", CountVectorizer(ngram_range=(1, 9), min_df = 1, max_df=0.1)),\n",
    "    (\"model\", LogisticRegression(C=0.91, penalty=\"elasticnet\", solver=\"saga\", l1_ratio=1)),\n",
    "])"
   ]
  },
  {
   "cell_type": "markdown",
   "id": "8b033a39-0795-4759-90ad-b6818e566d78",
   "metadata": {},
   "source": [
    "train_and_validate(pipe, train_df, test_df)"
   ]
  },
  {
   "cell_type": "code",
   "execution_count": null,
   "id": "e03ea6f5-199f-4f36-9cf2-725537e5a742",
   "metadata": {},
   "outputs": [],
   "source": []
  },
  {
   "cell_type": "code",
   "execution_count": 49,
   "id": "99486c43-6a9f-4070-a0f0-6624640d175b",
   "metadata": {},
   "outputs": [
    {
     "data": {
      "text/plain": [
       "dict_keys(['memory', 'steps', 'verbose', 'vectorizer', 'model', 'vectorizer__analyzer', 'vectorizer__binary', 'vectorizer__decode_error', 'vectorizer__dtype', 'vectorizer__encoding', 'vectorizer__input', 'vectorizer__lowercase', 'vectorizer__max_df', 'vectorizer__max_features', 'vectorizer__min_df', 'vectorizer__ngram_range', 'vectorizer__preprocessor', 'vectorizer__stop_words', 'vectorizer__strip_accents', 'vectorizer__token_pattern', 'vectorizer__tokenizer', 'vectorizer__vocabulary', 'model__C', 'model__class_weight', 'model__dual', 'model__fit_intercept', 'model__intercept_scaling', 'model__l1_ratio', 'model__max_iter', 'model__multi_class', 'model__n_jobs', 'model__penalty', 'model__random_state', 'model__solver', 'model__tol', 'model__verbose', 'model__warm_start'])"
      ]
     },
     "execution_count": 49,
     "metadata": {},
     "output_type": "execute_result"
    }
   ],
   "source": [
    "pipe.get_params().keys()"
   ]
  },
  {
   "cell_type": "markdown",
   "id": "16c14585-93ab-481c-ae86-fe9593ae7301",
   "metadata": {},
   "source": [
    "parameters = {\n",
    "    'model__penalty': [\"l1\"],\n",
    "    'vectorizer__ngram_range': [(1,9)],\n",
    "   # 'vectorizer__max_df': np.arange(0.1, 0.9, 0.1),\n",
    "    #'vectorizer__min_df': np.arange(1, 10, 1),\n",
    "    #'model__l1_ratio' : [0.1],\n",
    "    'model__solver': [\"saga\"],\n",
    "    'model__C': np.arange(2.5)\n",
    "}"
   ]
  },
  {
   "cell_type": "markdown",
   "id": "c9615d3a-1071-49e9-ba6f-6de6c8391b8d",
   "metadata": {},
   "source": [
    "cv = GridSearchCV(estimator=pipe, param_grid=parameters, cv=KFold(5, shuffle=True), n_jobs=-1)"
   ]
  },
  {
   "cell_type": "markdown",
   "id": "914c8b71-fd8e-49a2-b1b2-ae99d4619a19",
   "metadata": {},
   "source": [
    "cv.fit(train_df[COLS_TO_FIT], train_df[TARGET_COL])"
   ]
  },
  {
   "cell_type": "markdown",
   "id": "902bde1c-d5ab-4b92-a34c-609941f40e30",
   "metadata": {},
   "source": [
    "cv.best_score_"
   ]
  },
  {
   "cell_type": "markdown",
   "id": "2978e2af-b0d8-42d4-8055-a7f5a568a724",
   "metadata": {},
   "source": [
    "cv.best_params_\n"
   ]
  },
  {
   "cell_type": "markdown",
   "id": "d2015a47-3a9c-41b7-9db6-d54b12445b2d",
   "metadata": {},
   "source": [
    "cv.best_estimator_.named_steps[\"model\"]"
   ]
  },
  {
   "cell_type": "code",
   "execution_count": null,
   "id": "c9e4ee74-bd4c-42da-8f6e-6a3dd290ee5d",
   "metadata": {},
   "outputs": [],
   "source": []
  },
  {
   "cell_type": "markdown",
   "id": "89f7040c-10ac-479f-a037-02be94123c64",
   "metadata": {},
   "source": [
    "parameters = {\n",
    "    'model__penalty': [\"l1\"],\n",
    "    'vectorizer__ngram_range': [(1,9)],\n",
    "    'vectorizer__max_df': [(0.1)],\n",
    "    'vectorizer__min_df': [(1)],\n",
    "    #'model__l1_ratio' : [0.1],\n",
    "    'model__solver': [\"saga\"],\n",
    "    'model__C': np.arange(0.01, 1, 0.01)\n",
    "}"
   ]
  },
  {
   "cell_type": "markdown",
   "id": "76ca4325-b9c3-462e-a3be-177f91329168",
   "metadata": {},
   "source": [
    "cv = GridSearchCV(estimator=pipe, param_grid=parameters, cv=KFold(5, shuffle=True), n_jobs=-1)"
   ]
  },
  {
   "cell_type": "markdown",
   "id": "e2998988-0712-4d57-8875-d7d893740db1",
   "metadata": {},
   "source": [
    "cv.fit(train_df[COLS_TO_FIT], train_df[TARGET_COL])"
   ]
  },
  {
   "cell_type": "markdown",
   "id": "f5b93c76-3435-47da-bf81-a7840a6203d6",
   "metadata": {},
   "source": [
    "cv.best_score_"
   ]
  },
  {
   "cell_type": "markdown",
   "id": "5c248e72-98f0-4662-a024-f3634717170e",
   "metadata": {},
   "source": [
    "cv.best_params_\n",
    "#{'model__C': 0.91,\n",
    " #'model__penalty': 'l1',\n",
    " #'model__solver': 'saga',\n",
    " #'vectorizer__max_df': 0.1,\n",
    " #'vectorizer__min_df': 1,\n",
    " #'vectorizer__ngram_range': (1, 9)}"
   ]
  },
  {
   "cell_type": "markdown",
   "id": "1e6f92e6-29a0-4e13-8677-00d0005836ec",
   "metadata": {},
   "source": [
    "cv.best_estimator_.named_steps[\"model\"]\n",
    "#LogisticRegression(C=0.91, penalty='l1', solver='saga')"
   ]
  },
  {
   "cell_type": "code",
   "execution_count": null,
   "id": "1375ab63-9f65-4d73-824c-5d35125d9abf",
   "metadata": {},
   "outputs": [],
   "source": []
  },
  {
   "cell_type": "markdown",
   "id": "4987e810-8163-4f09-850c-dc5895ab82bd",
   "metadata": {},
   "source": [
    "parameters = {\n",
    "    #'model__penalty': [\"l1\"],\n",
    "    #'vectorizer__ngram_range': [(1,9)],\n",
    "    #'vectorizer__max_df': [(0.1)],\n",
    "    #'vectorizer__min_df': [(1)],\n",
    "    #'model__l1_ratio' : [0.1],\n",
    "    #'model__solver': [\"saga\"],\n",
    "    'model__C': np.arange(1, 10, 1)\n",
    "}"
   ]
  },
  {
   "cell_type": "markdown",
   "id": "5c1295cd-4c7b-4e57-9f13-7ebbd7787997",
   "metadata": {},
   "source": [
    "cv = GridSearchCV(estimator=pipe, param_grid=parameters, cv=KFold(5, shuffle=True), n_jobs=-1)"
   ]
  },
  {
   "cell_type": "markdown",
   "id": "e9fa8713-1eba-4ae9-8368-0963e949aba1",
   "metadata": {},
   "source": [
    "cv.fit(train_df[COLS_TO_FIT], train_df[TARGET_COL])"
   ]
  },
  {
   "cell_type": "markdown",
   "id": "1ecd865e-64b4-4143-bced-2c9ae13076fb",
   "metadata": {},
   "source": [
    "cv.best_score_"
   ]
  },
  {
   "cell_type": "markdown",
   "id": "10ba6580-ad2d-4b28-8503-2fb4abad7b84",
   "metadata": {},
   "source": [
    "cv.best_params_\n",
    "#{'model__C': 1}"
   ]
  },
  {
   "cell_type": "markdown",
   "id": "e5b85bb6-db61-4e8e-a5ed-caf018c1459c",
   "metadata": {},
   "source": [
    "cv.best_estimator_.named_steps[\"model\"]"
   ]
  },
  {
   "cell_type": "markdown",
   "id": "355e3b13-c2f6-4de4-a7a7-30b06a1dadf4",
   "metadata": {},
   "source": [
    "parameters = {\n",
    "    #'model__penalty': [\"l1\"],\n",
    "    #'vectorizer__ngram_range': [(1,9)],\n",
    "    #'vectorizer__max_df': [(0.1)],\n",
    "    #'vectorizer__min_df': [(1)],\n",
    "    #'model__l1_ratio' : [0.1],\n",
    "    #'model__solver': [\"saga\"],\n",
    "    'model__C': np.arange(2.85, 2.95, 0.01)\n",
    "}"
   ]
  },
  {
   "cell_type": "markdown",
   "id": "56e5bf6e-221e-4866-87a8-9aca1c32418a",
   "metadata": {},
   "source": [
    "cv = GridSearchCV(estimator=pipe, param_grid=parameters, cv=KFold(5, shuffle=True), n_jobs=-1)"
   ]
  },
  {
   "cell_type": "markdown",
   "id": "8270d45e-173c-4d2a-b0da-95b1863d1fd0",
   "metadata": {},
   "source": [
    "cv.fit(train_df[COLS_TO_FIT], train_df[TARGET_COL])"
   ]
  },
  {
   "cell_type": "markdown",
   "id": "d268db0f-d26f-431f-b611-cc83cfd24ec4",
   "metadata": {},
   "source": [
    "cv.best_score_"
   ]
  },
  {
   "cell_type": "markdown",
   "id": "33f9a847-c6cf-47af-8ae8-7ecf3486b62f",
   "metadata": {},
   "source": [
    "cv.best_params_\n",
    "#{'model__C': 2.85}"
   ]
  },
  {
   "cell_type": "markdown",
   "id": "4ca1f61c-2876-47f9-ab9e-39cf36184dcd",
   "metadata": {},
   "source": [
    "cv.best_estimator_.named_steps[\"model\"]"
   ]
  },
  {
   "cell_type": "markdown",
   "id": "b0dad648-edaf-40ed-a171-d494c66c7f93",
   "metadata": {},
   "source": [
    "parameters = {\n",
    "    #'model__penalty': [\"l1\"],\n",
    "    #'vectorizer__ngram_range': [(1,9)],\n",
    "    #'vectorizer__max_df': [(0.1)],\n",
    "    #'vectorizer__min_df': [(1)],\n",
    "    #'model__l1_ratio' : [0.1],\n",
    "    #'model__solver': [\"saga\"],\n",
    "    'model__C': np.arange(10, 99, 1)\n",
    "}"
   ]
  },
  {
   "cell_type": "markdown",
   "id": "c40b8a34-d0b7-4c28-904b-1bcebbf00fba",
   "metadata": {},
   "source": [
    "cv = GridSearchCV(estimator=pipe, param_grid=parameters, cv=KFold(5, shuffle=True), n_jobs=-1)"
   ]
  },
  {
   "cell_type": "markdown",
   "id": "1f0960cc-ae44-4376-bb09-966e727e5d3f",
   "metadata": {},
   "source": [
    "cv.fit(train_df[COLS_TO_FIT], train_df[TARGET_COL])"
   ]
  },
  {
   "cell_type": "markdown",
   "id": "19196806-f960-4bb0-be58-125f6c53089c",
   "metadata": {},
   "source": [
    "cv.best_score_"
   ]
  },
  {
   "cell_type": "markdown",
   "id": "79ff9ace-d74e-4f0a-8d83-f992f8f5e57d",
   "metadata": {},
   "source": [
    "cv.best_params_\n",
    "\n",
    "#{'model__C': 10}"
   ]
  },
  {
   "cell_type": "markdown",
   "id": "d16f9495-0705-46ed-a830-da914728a1d3",
   "metadata": {},
   "source": [
    "cv.best_estimator_.named_steps[\"model\"]"
   ]
  },
  {
   "cell_type": "code",
   "execution_count": 50,
   "id": "4790f454-f4ed-4d07-ba9f-c38edd41d8ff",
   "metadata": {},
   "outputs": [],
   "source": [
    "parameters = {\n",
    "    'model__penalty': [\"l1\", \"l2\", \"elasticnet\"],\n",
    "    #'vectorizer__ngram_range': [(1,9)],\n",
    "    #'vectorizer__max_df': [(0.1)],\n",
    "    #'vectorizer__min_df': [(1)],\n",
    "    #'model__l1_ratio' : [0.1],\n",
    "    #'model__solver': [\"saga\"],\n",
    "    'model__C': np.arange(0.85, 0.95, 0.01)\n",
    "}"
   ]
  },
  {
   "cell_type": "code",
   "execution_count": 51,
   "id": "791e0a5a-e555-40d8-9028-85305a0e4469",
   "metadata": {},
   "outputs": [],
   "source": [
    "cv = GridSearchCV(estimator=pipe, param_grid=parameters, cv=KFold(n_splits=5, shuffle=False, random_state=None), n_jobs=-1)"
   ]
  },
  {
   "cell_type": "code",
   "execution_count": null,
   "id": "db95fe32-edb6-458a-a109-f6d1f106f14b",
   "metadata": {},
   "outputs": [],
   "source": [
    "cv.fit(train_df[COLS_TO_FIT], train_df[TARGET_COL])"
   ]
  },
  {
   "cell_type": "code",
   "execution_count": null,
   "id": "59e8fd94-8886-497d-9222-b40c2d64818b",
   "metadata": {},
   "outputs": [],
   "source": [
    "cv.best_score_"
   ]
  },
  {
   "cell_type": "code",
   "execution_count": null,
   "id": "d2be4eef-9da6-4cc3-98c3-4587a776752a",
   "metadata": {},
   "outputs": [],
   "source": [
    "cv.best_params_\n"
   ]
  },
  {
   "cell_type": "code",
   "execution_count": null,
   "id": "436dcf76-a95a-4f8b-b043-96dd8c7cac4b",
   "metadata": {},
   "outputs": [],
   "source": [
    "cv.best_estimator_.named_steps[\"model\"]"
   ]
  },
  {
   "cell_type": "markdown",
   "id": "8f09a53e-cc53-4250-8f36-248ff8aa4907",
   "metadata": {},
   "source": [
    "parameters = {\n",
    "    #'model__penalty': [\"l1\"],\n",
    "    #'vectorizer__ngram_range': [(1,9)],\n",
    "    #'vectorizer__max_df': [(0.1)],\n",
    "    #'vectorizer__min_df': [(1)],\n",
    "    #'model__l1_ratio' : [0.1],\n",
    "    #'model__solver': [\"saga\"],\n",
    "    'model__C': np.arange(10.3, 10.42, 0.01)\n",
    "}"
   ]
  },
  {
   "cell_type": "markdown",
   "id": "f246ee43-b8fe-411c-99ba-13169e191814",
   "metadata": {},
   "source": [
    "cv = GridSearchCV(estimator=pipe, param_grid=parameters, cv=KFold(5, shuffle=True), n_jobs=-1)"
   ]
  },
  {
   "cell_type": "markdown",
   "id": "b15782aa-99fc-4085-b936-941246336fdf",
   "metadata": {},
   "source": [
    "cv.fit(train_df[COLS_TO_FIT], train_df[TARGET_COL])"
   ]
  },
  {
   "cell_type": "markdown",
   "id": "33b272a0-f2fc-4eef-a018-8d0993e9daec",
   "metadata": {},
   "source": [
    "cv.best_score_"
   ]
  },
  {
   "cell_type": "markdown",
   "id": "68b3e86d-9d1e-4af2-8776-3e647d54bf32",
   "metadata": {},
   "source": [
    "cv.best_params_\n"
   ]
  },
  {
   "cell_type": "markdown",
   "id": "fb2306c5-a59e-473c-bf5e-0546288638f2",
   "metadata": {},
   "source": [
    "cv.best_estimator_.named_steps[\"model\"]"
   ]
  },
  {
   "cell_type": "markdown",
   "id": "39f920d8-0b2f-4750-a6cb-6b64abb7ecbf",
   "metadata": {},
   "source": [
    "parameters = {\n",
    "    'model__penalty': [\"l1\"],\n",
    "    'vectorizer__ngram_range': [(1,9)],\n",
    "    'vectorizer__max_df':np.arange(0.01, 1, 0.01),\n",
    "    'vectorizer__min_df': [(1)],\n",
    "    #'model__l1_ratio' : [0.1],\n",
    "    'model__solver': [\"saga\"],\n",
    "    'model__C': [(0.91)]\n",
    "}"
   ]
  },
  {
   "cell_type": "markdown",
   "id": "b37357ce-3872-4b69-9f87-d41d0102ebba",
   "metadata": {},
   "source": [
    "cv = GridSearchCV(estimator=pipe, param_grid=parameters, cv=KFold(5, shuffle=True), n_jobs=-1)"
   ]
  },
  {
   "cell_type": "markdown",
   "id": "5d3e36b0-7b56-42fd-884d-4a0306d3196e",
   "metadata": {},
   "source": [
    "cv.fit(train_df[COLS_TO_FIT], train_df[TARGET_COL])"
   ]
  },
  {
   "cell_type": "markdown",
   "id": "5d4e6458-22a6-4685-b148-e90fe287c3f5",
   "metadata": {},
   "source": [
    "cv.best_score_"
   ]
  },
  {
   "cell_type": "markdown",
   "id": "5e945a45-85d6-4e3a-9415-a92cc9700911",
   "metadata": {},
   "source": [
    "cv.best_params_"
   ]
  },
  {
   "cell_type": "markdown",
   "id": "68b5316b-8b40-4bb6-92fd-e43a7177e231",
   "metadata": {},
   "source": [
    "cv.best_estimator_.named_steps[\"model\"]"
   ]
  },
  {
   "cell_type": "markdown",
   "id": "3f9fe22d-d549-4cda-a940-06250b09b22a",
   "metadata": {},
   "source": [
    "parameters = {\n",
    "    'model__penalty': [\"l1\"],\n",
    "    #'vectorizer__ngram_range': np.arange(1,9),\n",
    "    #'vectorizer__max_df':np.arange(0.5),\n",
    "    'vectorizer__min_df': np.arange(1, 10, 1),\n",
    "    #'model__l1_ratio' : [0.1],\n",
    "    'model__solver': [\"saga\"],\n",
    "    'model__C': [0.91]\n",
    "}"
   ]
  },
  {
   "cell_type": "markdown",
   "id": "24d43642-a445-44df-b80a-ea32791a4ca6",
   "metadata": {},
   "source": [
    "cv = GridSearchCV(estimator=pipe, param_grid=parameters, cv=KFold(5, shuffle=True, random_state=None), n_jobs=-1)"
   ]
  },
  {
   "cell_type": "markdown",
   "id": "3d37694a-12f2-40a1-9b8b-3d1aea2a6056",
   "metadata": {},
   "source": [
    "cv.fit(train_df[COLS_TO_FIT], train_df[TARGET_COL])"
   ]
  },
  {
   "cell_type": "markdown",
   "id": "3f9a9637-b598-4abf-a2ed-b8c9c270d13c",
   "metadata": {},
   "source": [
    "cv.best_score_"
   ]
  },
  {
   "cell_type": "markdown",
   "id": "f6738e1a-0333-445c-be44-ff9b730b70ee",
   "metadata": {},
   "source": [
    "cv.best_params_\n",
    "{'model__C': 0.91,\n",
    " 'model__penalty': 'l1',\n",
    " 'model__solver': 'saga',\n",
    " 'vectorizer__min_df': 3}"
   ]
  },
  {
   "cell_type": "markdown",
   "id": "bb6e2ff9-8d52-4e86-931a-bc8fd360d05a",
   "metadata": {},
   "source": [
    "cv.best_estimator_.named_steps[\"model\"]"
   ]
  },
  {
   "cell_type": "markdown",
   "id": "cbf48a54-1a49-4d28-ac55-cf7db37dee53",
   "metadata": {},
   "source": [
    "parameters = {\n",
    "    'model__penalty': [\"elasticnet\"],\n",
    "    #'vectorizer__ngram_range': np.arange(1,9),\n",
    "    #'vectorizer__max_df':np.arange(0.5),\n",
    "    #'vectorizer__min_df': np.arange(1, 100, 1),\n",
    "    'model__l1_ratio' : np.arange(0.01, 1, 0.05),\n",
    "    'model__solver': [\"saga\"],\n",
    "    'model__C': [0.91]\n",
    "}"
   ]
  },
  {
   "cell_type": "markdown",
   "id": "9af0ae29-6478-4596-89cd-baf306759acd",
   "metadata": {},
   "source": [
    "cv = GridSearchCV(estimator=pipe, param_grid=parameters, cv=KFold(5, shuffle=True, random_state=None), n_jobs=-1)"
   ]
  },
  {
   "cell_type": "markdown",
   "id": "2d1851a9-dbd0-4b75-b85f-1fed5f76db49",
   "metadata": {},
   "source": [
    "cv.fit(train_df[COLS_TO_FIT], train_df[TARGET_COL])"
   ]
  },
  {
   "cell_type": "markdown",
   "id": "be4de601-17ae-4d8c-8fef-9b54089be133",
   "metadata": {},
   "source": [
    "cv.best_score_"
   ]
  },
  {
   "cell_type": "markdown",
   "id": "b70e8df4-3985-4de5-8252-ac9e8cf34e42",
   "metadata": {
    "tags": []
   },
   "source": [
    "cv.best_params_\n",
    "​\n",
    "{'model__C': 0.91,\n",
    " 'model__l1_ratio': 0.060000000000000005,\n",
    " 'model__penalty': 'elasticnet',\n",
    " 'model__solver': 'saga'}"
   ]
  },
  {
   "cell_type": "markdown",
   "id": "50075b1b-488f-4132-81e3-fc575e7b1471",
   "metadata": {
    "tags": []
   },
   "source": [
    "cv.best_estimator_.named_steps[\"model\"]\n",
    "LogisticRegression(C=0.91, l1_ratio=0.060000000000000005, penalty='elasticnet',\n",
    "                   solver='saga')"
   ]
  },
  {
   "cell_type": "code",
   "execution_count": null,
   "id": "0a76f892-da44-4c02-b9f4-7f24364ab772",
   "metadata": {
    "jupyter": {
     "source_hidden": true
    },
    "tags": []
   },
   "outputs": [],
   "source": []
  },
  {
   "cell_type": "code",
   "execution_count": null,
   "id": "44cdb16a-b2a2-4fbb-8c37-a6a437909b6f",
   "metadata": {},
   "outputs": [],
   "source": [
    "pipe = Pipeline([\n",
    "    \n",
    "    \n",
    "    (\"vectorizer\", CountVectorizer()),\n",
    "    (\"model\", LogisticRegression(solver=\"saga\")),\n",
    "])"
   ]
  },
  {
   "cell_type": "code",
   "execution_count": null,
   "id": "cb653af3-a8a5-4007-9c3e-6d213a659f5c",
   "metadata": {},
   "outputs": [],
   "source": [
    "train_and_validate(pipe, train_df, test_df)"
   ]
  },
  {
   "cell_type": "code",
   "execution_count": null,
   "id": "022c0cf9-c5a9-47f5-ab6c-b9baf493f292",
   "metadata": {},
   "outputs": [],
   "source": []
  },
  {
   "cell_type": "markdown",
   "id": "bdc0a693-fde4-48a5-b852-f3fa1907ff01",
   "metadata": {},
   "source": [
    "# Лучший результат"
   ]
  },
  {
   "cell_type": "code",
   "execution_count": null,
   "id": "40796430-0def-4350-adcd-f32aba98c214",
   "metadata": {},
   "outputs": [],
   "source": [
    "pipe = Pipeline([\n",
    "    (\"vectorizer\", CountVectorizer(ngram_range=(1, 9), min_df = 1, max_df=0.1)),\n",
    "    (\"model\", LogisticRegression(C=0.93, penalty=\"l1\", solver=\"saga\")),\n",
    "])"
   ]
  },
  {
   "cell_type": "code",
   "execution_count": null,
   "id": "69f84885-d13e-4bc3-a0e1-611c9208950d",
   "metadata": {},
   "outputs": [],
   "source": [
    "train_and_validate(pipe, train_df, test_df)"
   ]
  },
  {
   "cell_type": "code",
   "execution_count": null,
   "id": "f113942b-f4f3-4f56-9e3f-fc7a084fd538",
   "metadata": {},
   "outputs": [],
   "source": [
    "pipe = Pipeline([\n",
    "    (\"vectorizer\", CountVectorizer(ngram_range=(1, 9), min_df = 2, max_df=0.8)),\n",
    "    (\"model\", LogisticRegression(C=0.93, penalty=\"l1\", solver=\"saga\")),\n",
    "])"
   ]
  },
  {
   "cell_type": "code",
   "execution_count": null,
   "id": "a3cdf09f-f6eb-4501-91ac-0d88ce8c8630",
   "metadata": {},
   "outputs": [],
   "source": [
    "train_and_validate(pipe, train_df, test_df)"
   ]
  },
  {
   "cell_type": "code",
   "execution_count": null,
   "id": "e148bad9-ae07-486b-9da9-0949ea53668c",
   "metadata": {},
   "outputs": [],
   "source": [
    "pipe = Pipeline([\n",
    "    (\"vectorizer\", CountVectorizer(ngram_range=(1, 9))),\n",
    "    (\"model\", LogisticRegression(C=0.93, penalty=\"l1\", solver=\"saga\")),\n",
    "])"
   ]
  },
  {
   "cell_type": "code",
   "execution_count": null,
   "id": "dfdf9f41-9bb6-4c85-9e6a-216b92b42768",
   "metadata": {},
   "outputs": [],
   "source": [
    "train_and_validate(pipe, train_df, test_df)"
   ]
  },
  {
   "cell_type": "code",
   "execution_count": null,
   "id": "2441fbd0-c6cf-43a5-ab4b-c6034f6628e2",
   "metadata": {},
   "outputs": [],
   "source": []
  },
  {
   "cell_type": "code",
   "execution_count": null,
   "id": "8ac600e0-6aa9-4b05-bf2a-482e447a2d53",
   "metadata": {},
   "outputs": [],
   "source": []
  },
  {
   "cell_type": "code",
   "execution_count": null,
   "id": "0021da29-da67-4493-8f98-390d22d48621",
   "metadata": {},
   "outputs": [],
   "source": [
    "parameters = {\n",
    "    'model__penalty': [\"l1\"],\n",
    "    'vectorizer__ngram_range': [(1,9)],\n",
    "    'vectorizer__max_df':np.arange(0.1, 0.5, 0.1),\n",
    "    'vectorizer__min_df': np.arange(1, 6, 1),\n",
    "    'model__solver': [\"saga\"],\n",
    "    'model__C': np.arange(0.90, 0.95, 0.01)\n",
    "}"
   ]
  },
  {
   "cell_type": "code",
   "execution_count": null,
   "id": "0f35815c-4730-4673-a665-78f2bde438de",
   "metadata": {},
   "outputs": [],
   "source": [
    "cv = GridSearchCV(estimator=pipe, param_grid=parameters, cv=KFold(5, shuffle=True, random_state=None), n_jobs=-1)"
   ]
  },
  {
   "cell_type": "code",
   "execution_count": null,
   "id": "af553fa2-493f-4c77-b489-3f237c23173c",
   "metadata": {},
   "outputs": [],
   "source": [
    "cv.fit(train_df[COLS_TO_FIT], train_df[TARGET_COL])"
   ]
  },
  {
   "cell_type": "code",
   "execution_count": null,
   "id": "b0317e52-54d5-416f-8a7e-02b1d54607aa",
   "metadata": {},
   "outputs": [],
   "source": [
    "cv.best_score_"
   ]
  },
  {
   "cell_type": "code",
   "execution_count": null,
   "id": "cd072675-4cec-4739-afc3-b8b268c46a8e",
   "metadata": {},
   "outputs": [],
   "source": [
    "cv.best_params_\n",
    "#{'model__C': 0.92,\n",
    "# 'model__penalty': 'l1',\n",
    "# 'model__solver': 'saga',\n",
    "# 'vectorizer__max_df': 0.1,\n",
    "# 'vectorizer__min_df': 1,\n",
    "# 'vectorizer__ngram_range': (1, 9)}"
   ]
  },
  {
   "cell_type": "code",
   "execution_count": null,
   "id": "33958d55-56af-46fd-8eb3-6b9aba41c1ee",
   "metadata": {},
   "outputs": [],
   "source": [
    "cv.best_estimator_.named_steps[\"model\"]"
   ]
  },
  {
   "cell_type": "code",
   "execution_count": null,
   "id": "409215b5-d74c-49e1-a9db-3af34bec3e3c",
   "metadata": {},
   "outputs": [],
   "source": []
  },
  {
   "cell_type": "markdown",
   "id": "c2e4c9ae-0fb1-43d9-83c7-2148817c6b8c",
   "metadata": {},
   "source": [
    "   def preprocessing(token):\n",
    "    # Copied from here\n",
    "    token = re.sub(r\"(...)our$\", r\"\\1or\", token)\n",
    "    token = re.sub(r\"([bt])re$\", r\"\\1er\", token)\n",
    "    token = re.sub(r\"([iy])s(e$|ing|ation)\", r\"\\1z\\2\", token)\n",
    "    token = re.sub(r\"ogue$\", \"og\", token)\n",
    "    return token\n",
    "def correct_typo(tokens):\n",
    "    spell = SpellChecker()\n",
    "    return [spell.correction(t) if len(spell.unknown([t]))>0 else t for t in tokens]\n",
    "        \n",
    "def preprocess_text(text):\n",
    "    # 1. Tokenise to alphabetic tokens\n",
    "    tokeniser = RegexpTokenizer(r'[A-Za-z]+')\n",
    "    tokens = tokeniser.tokenize(text)\n",
    "    \n",
    "    # 2. Lowercase and lemmatise\n",
    "    lemmatiser = WordNetLemmatizer()\n",
    "    tokens = [lemmatiser.lemmatize(t.lower(), pos='v') for t in tokens]\n",
    "#3. Correct spelling (this won't convert 100% )\n",
    "    tokens = correct_typo(tokens)\n",
    "    \n",
    "    # 4. Convert British spelling to American spelling (this won't convert 100%)\n",
    "    tokens = [convert_to_american(t) for t in tokens]\n",
    "#5. Remove stopwords\n",
    "    stop_words = stopwords.words('english')\n",
    "    stop_words.extend(['cannot', 'could', 'done', 'let', 'may' 'mayn',  'might',  'must', 'need', 'ought', 'oughtn', \n",
    "                       'shall', 'would', 'br'])\n",
    "    tokens = [t for t in tokens if t not in stop_words]\n",
    "    \n",
    "    return tokens"
   ]
  }
 ],
 "metadata": {
  "kernelspec": {
   "display_name": "Python 3 (ipykernel)",
   "language": "python",
   "name": "python3"
  },
  "language_info": {
   "codemirror_mode": {
    "name": "ipython",
    "version": 3
   },
   "file_extension": ".py",
   "mimetype": "text/x-python",
   "name": "python",
   "nbconvert_exporter": "python",
   "pygments_lexer": "ipython3",
   "version": "3.9.7"
  }
 },
 "nbformat": 4,
 "nbformat_minor": 5
}
