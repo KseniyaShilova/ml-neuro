{
 "cells": [
  {
   "cell_type": "code",
   "execution_count": 268,
   "metadata": {},
   "outputs": [],
   "source": [
    "from datetime import datetime\n",
    "import math\n",
    "\n",
    "import pandas as pd\n",
    "import numpy as np\n",
    "import seaborn as sns\n",
    "import matplotlib.pyplot as plt\n",
    "from sklearn.linear_model import LinearRegression\n",
    "from sklearn.metrics import mean_squared_error\n",
    "from sklearn import linear_model\n",
    "from sklearn.preprocessing import PolynomialFeatures"
   ]
  },
  {
   "cell_type": "code",
   "execution_count": 269,
   "metadata": {},
   "outputs": [],
   "source": [
    "df = pd.read_csv('owid-covid-data.csv')"
   ]
  },
  {
   "cell_type": "code",
   "execution_count": 270,
   "metadata": {},
   "outputs": [],
   "source": [
    "df = df.loc[df['location'] == \"France\"]\n",
    "df = df.loc[df['new_cases'] != 0]\n"
   ]
  },
  {
   "cell_type": "code",
   "execution_count": 271,
   "metadata": {},
   "outputs": [
    {
     "data": {
      "text/html": [
       "<div>\n",
       "<style scoped>\n",
       "    .dataframe tbody tr th:only-of-type {\n",
       "        vertical-align: middle;\n",
       "    }\n",
       "\n",
       "    .dataframe tbody tr th {\n",
       "        vertical-align: top;\n",
       "    }\n",
       "\n",
       "    .dataframe thead th {\n",
       "        text-align: right;\n",
       "    }\n",
       "</style>\n",
       "<table border=\"1\" class=\"dataframe\">\n",
       "  <thead>\n",
       "    <tr style=\"text-align: right;\">\n",
       "      <th></th>\n",
       "      <th>iso_code</th>\n",
       "      <th>continent</th>\n",
       "      <th>location</th>\n",
       "      <th>date</th>\n",
       "      <th>total_cases</th>\n",
       "      <th>new_cases</th>\n",
       "      <th>new_cases_smoothed</th>\n",
       "      <th>total_deaths</th>\n",
       "      <th>new_deaths</th>\n",
       "      <th>new_deaths_smoothed</th>\n",
       "      <th>...</th>\n",
       "      <th>female_smokers</th>\n",
       "      <th>male_smokers</th>\n",
       "      <th>handwashing_facilities</th>\n",
       "      <th>hospital_beds_per_thousand</th>\n",
       "      <th>life_expectancy</th>\n",
       "      <th>human_development_index</th>\n",
       "      <th>excess_mortality_cumulative_absolute</th>\n",
       "      <th>excess_mortality_cumulative</th>\n",
       "      <th>excess_mortality</th>\n",
       "      <th>excess_mortality_cumulative_per_million</th>\n",
       "    </tr>\n",
       "  </thead>\n",
       "  <tbody>\n",
       "    <tr>\n",
       "      <th>39217</th>\n",
       "      <td>FRA</td>\n",
       "      <td>Europe</td>\n",
       "      <td>France</td>\n",
       "      <td>2020-01-24</td>\n",
       "      <td>2.0</td>\n",
       "      <td>2.0</td>\n",
       "      <td>NaN</td>\n",
       "      <td>NaN</td>\n",
       "      <td>NaN</td>\n",
       "      <td>NaN</td>\n",
       "      <td>...</td>\n",
       "      <td>30.1</td>\n",
       "      <td>35.6</td>\n",
       "      <td>NaN</td>\n",
       "      <td>5.98</td>\n",
       "      <td>82.66</td>\n",
       "      <td>0.901</td>\n",
       "      <td>NaN</td>\n",
       "      <td>NaN</td>\n",
       "      <td>NaN</td>\n",
       "      <td>NaN</td>\n",
       "    </tr>\n",
       "    <tr>\n",
       "      <th>39218</th>\n",
       "      <td>FRA</td>\n",
       "      <td>Europe</td>\n",
       "      <td>France</td>\n",
       "      <td>2020-01-25</td>\n",
       "      <td>3.0</td>\n",
       "      <td>1.0</td>\n",
       "      <td>NaN</td>\n",
       "      <td>NaN</td>\n",
       "      <td>NaN</td>\n",
       "      <td>NaN</td>\n",
       "      <td>...</td>\n",
       "      <td>30.1</td>\n",
       "      <td>35.6</td>\n",
       "      <td>NaN</td>\n",
       "      <td>5.98</td>\n",
       "      <td>82.66</td>\n",
       "      <td>0.901</td>\n",
       "      <td>NaN</td>\n",
       "      <td>NaN</td>\n",
       "      <td>NaN</td>\n",
       "      <td>NaN</td>\n",
       "    </tr>\n",
       "    <tr>\n",
       "      <th>39221</th>\n",
       "      <td>FRA</td>\n",
       "      <td>Europe</td>\n",
       "      <td>France</td>\n",
       "      <td>2020-01-28</td>\n",
       "      <td>4.0</td>\n",
       "      <td>1.0</td>\n",
       "      <td>NaN</td>\n",
       "      <td>NaN</td>\n",
       "      <td>NaN</td>\n",
       "      <td>NaN</td>\n",
       "      <td>...</td>\n",
       "      <td>30.1</td>\n",
       "      <td>35.6</td>\n",
       "      <td>NaN</td>\n",
       "      <td>5.98</td>\n",
       "      <td>82.66</td>\n",
       "      <td>0.901</td>\n",
       "      <td>NaN</td>\n",
       "      <td>NaN</td>\n",
       "      <td>NaN</td>\n",
       "      <td>NaN</td>\n",
       "    </tr>\n",
       "    <tr>\n",
       "      <th>39222</th>\n",
       "      <td>FRA</td>\n",
       "      <td>Europe</td>\n",
       "      <td>France</td>\n",
       "      <td>2020-01-29</td>\n",
       "      <td>5.0</td>\n",
       "      <td>1.0</td>\n",
       "      <td>0.714</td>\n",
       "      <td>NaN</td>\n",
       "      <td>NaN</td>\n",
       "      <td>0.000</td>\n",
       "      <td>...</td>\n",
       "      <td>30.1</td>\n",
       "      <td>35.6</td>\n",
       "      <td>NaN</td>\n",
       "      <td>5.98</td>\n",
       "      <td>82.66</td>\n",
       "      <td>0.901</td>\n",
       "      <td>NaN</td>\n",
       "      <td>NaN</td>\n",
       "      <td>NaN</td>\n",
       "      <td>NaN</td>\n",
       "    </tr>\n",
       "    <tr>\n",
       "      <th>39225</th>\n",
       "      <td>FRA</td>\n",
       "      <td>Europe</td>\n",
       "      <td>France</td>\n",
       "      <td>2020-02-01</td>\n",
       "      <td>6.0</td>\n",
       "      <td>1.0</td>\n",
       "      <td>0.429</td>\n",
       "      <td>NaN</td>\n",
       "      <td>NaN</td>\n",
       "      <td>0.000</td>\n",
       "      <td>...</td>\n",
       "      <td>30.1</td>\n",
       "      <td>35.6</td>\n",
       "      <td>NaN</td>\n",
       "      <td>5.98</td>\n",
       "      <td>82.66</td>\n",
       "      <td>0.901</td>\n",
       "      <td>NaN</td>\n",
       "      <td>NaN</td>\n",
       "      <td>NaN</td>\n",
       "      <td>NaN</td>\n",
       "    </tr>\n",
       "    <tr>\n",
       "      <th>39232</th>\n",
       "      <td>FRA</td>\n",
       "      <td>Europe</td>\n",
       "      <td>France</td>\n",
       "      <td>2020-02-08</td>\n",
       "      <td>11.0</td>\n",
       "      <td>5.0</td>\n",
       "      <td>0.714</td>\n",
       "      <td>NaN</td>\n",
       "      <td>NaN</td>\n",
       "      <td>0.000</td>\n",
       "      <td>...</td>\n",
       "      <td>30.1</td>\n",
       "      <td>35.6</td>\n",
       "      <td>NaN</td>\n",
       "      <td>5.98</td>\n",
       "      <td>82.66</td>\n",
       "      <td>0.901</td>\n",
       "      <td>NaN</td>\n",
       "      <td>NaN</td>\n",
       "      <td>NaN</td>\n",
       "      <td>NaN</td>\n",
       "    </tr>\n",
       "    <tr>\n",
       "      <th>39239</th>\n",
       "      <td>FRA</td>\n",
       "      <td>Europe</td>\n",
       "      <td>France</td>\n",
       "      <td>2020-02-15</td>\n",
       "      <td>12.0</td>\n",
       "      <td>1.0</td>\n",
       "      <td>0.143</td>\n",
       "      <td>1.0</td>\n",
       "      <td>1.0</td>\n",
       "      <td>0.143</td>\n",
       "      <td>...</td>\n",
       "      <td>30.1</td>\n",
       "      <td>35.6</td>\n",
       "      <td>NaN</td>\n",
       "      <td>5.98</td>\n",
       "      <td>82.66</td>\n",
       "      <td>0.901</td>\n",
       "      <td>NaN</td>\n",
       "      <td>NaN</td>\n",
       "      <td>NaN</td>\n",
       "      <td>NaN</td>\n",
       "    </tr>\n",
       "    <tr>\n",
       "      <th>39249</th>\n",
       "      <td>FRA</td>\n",
       "      <td>Europe</td>\n",
       "      <td>France</td>\n",
       "      <td>2020-02-25</td>\n",
       "      <td>14.0</td>\n",
       "      <td>2.0</td>\n",
       "      <td>0.286</td>\n",
       "      <td>1.0</td>\n",
       "      <td>0.0</td>\n",
       "      <td>0.000</td>\n",
       "      <td>...</td>\n",
       "      <td>30.1</td>\n",
       "      <td>35.6</td>\n",
       "      <td>NaN</td>\n",
       "      <td>5.98</td>\n",
       "      <td>82.66</td>\n",
       "      <td>0.901</td>\n",
       "      <td>NaN</td>\n",
       "      <td>NaN</td>\n",
       "      <td>NaN</td>\n",
       "      <td>NaN</td>\n",
       "    </tr>\n",
       "    <tr>\n",
       "      <th>39250</th>\n",
       "      <td>FRA</td>\n",
       "      <td>Europe</td>\n",
       "      <td>France</td>\n",
       "      <td>2020-02-26</td>\n",
       "      <td>18.0</td>\n",
       "      <td>4.0</td>\n",
       "      <td>0.857</td>\n",
       "      <td>2.0</td>\n",
       "      <td>1.0</td>\n",
       "      <td>0.143</td>\n",
       "      <td>...</td>\n",
       "      <td>30.1</td>\n",
       "      <td>35.6</td>\n",
       "      <td>NaN</td>\n",
       "      <td>5.98</td>\n",
       "      <td>82.66</td>\n",
       "      <td>0.901</td>\n",
       "      <td>NaN</td>\n",
       "      <td>NaN</td>\n",
       "      <td>NaN</td>\n",
       "      <td>NaN</td>\n",
       "    </tr>\n",
       "    <tr>\n",
       "      <th>39251</th>\n",
       "      <td>FRA</td>\n",
       "      <td>Europe</td>\n",
       "      <td>France</td>\n",
       "      <td>2020-02-27</td>\n",
       "      <td>38.0</td>\n",
       "      <td>20.0</td>\n",
       "      <td>3.714</td>\n",
       "      <td>2.0</td>\n",
       "      <td>0.0</td>\n",
       "      <td>0.143</td>\n",
       "      <td>...</td>\n",
       "      <td>30.1</td>\n",
       "      <td>35.6</td>\n",
       "      <td>NaN</td>\n",
       "      <td>5.98</td>\n",
       "      <td>82.66</td>\n",
       "      <td>0.901</td>\n",
       "      <td>NaN</td>\n",
       "      <td>NaN</td>\n",
       "      <td>NaN</td>\n",
       "      <td>NaN</td>\n",
       "    </tr>\n",
       "  </tbody>\n",
       "</table>\n",
       "<p>10 rows × 65 columns</p>\n",
       "</div>"
      ],
      "text/plain": [
       "      iso_code continent location        date  total_cases  new_cases  \\\n",
       "39217      FRA    Europe   France  2020-01-24          2.0        2.0   \n",
       "39218      FRA    Europe   France  2020-01-25          3.0        1.0   \n",
       "39221      FRA    Europe   France  2020-01-28          4.0        1.0   \n",
       "39222      FRA    Europe   France  2020-01-29          5.0        1.0   \n",
       "39225      FRA    Europe   France  2020-02-01          6.0        1.0   \n",
       "39232      FRA    Europe   France  2020-02-08         11.0        5.0   \n",
       "39239      FRA    Europe   France  2020-02-15         12.0        1.0   \n",
       "39249      FRA    Europe   France  2020-02-25         14.0        2.0   \n",
       "39250      FRA    Europe   France  2020-02-26         18.0        4.0   \n",
       "39251      FRA    Europe   France  2020-02-27         38.0       20.0   \n",
       "\n",
       "       new_cases_smoothed  total_deaths  new_deaths  new_deaths_smoothed  ...  \\\n",
       "39217                 NaN           NaN         NaN                  NaN  ...   \n",
       "39218                 NaN           NaN         NaN                  NaN  ...   \n",
       "39221                 NaN           NaN         NaN                  NaN  ...   \n",
       "39222               0.714           NaN         NaN                0.000  ...   \n",
       "39225               0.429           NaN         NaN                0.000  ...   \n",
       "39232               0.714           NaN         NaN                0.000  ...   \n",
       "39239               0.143           1.0         1.0                0.143  ...   \n",
       "39249               0.286           1.0         0.0                0.000  ...   \n",
       "39250               0.857           2.0         1.0                0.143  ...   \n",
       "39251               3.714           2.0         0.0                0.143  ...   \n",
       "\n",
       "       female_smokers  male_smokers  handwashing_facilities  \\\n",
       "39217            30.1          35.6                     NaN   \n",
       "39218            30.1          35.6                     NaN   \n",
       "39221            30.1          35.6                     NaN   \n",
       "39222            30.1          35.6                     NaN   \n",
       "39225            30.1          35.6                     NaN   \n",
       "39232            30.1          35.6                     NaN   \n",
       "39239            30.1          35.6                     NaN   \n",
       "39249            30.1          35.6                     NaN   \n",
       "39250            30.1          35.6                     NaN   \n",
       "39251            30.1          35.6                     NaN   \n",
       "\n",
       "       hospital_beds_per_thousand  life_expectancy  human_development_index  \\\n",
       "39217                        5.98            82.66                    0.901   \n",
       "39218                        5.98            82.66                    0.901   \n",
       "39221                        5.98            82.66                    0.901   \n",
       "39222                        5.98            82.66                    0.901   \n",
       "39225                        5.98            82.66                    0.901   \n",
       "39232                        5.98            82.66                    0.901   \n",
       "39239                        5.98            82.66                    0.901   \n",
       "39249                        5.98            82.66                    0.901   \n",
       "39250                        5.98            82.66                    0.901   \n",
       "39251                        5.98            82.66                    0.901   \n",
       "\n",
       "       excess_mortality_cumulative_absolute  excess_mortality_cumulative  \\\n",
       "39217                                   NaN                          NaN   \n",
       "39218                                   NaN                          NaN   \n",
       "39221                                   NaN                          NaN   \n",
       "39222                                   NaN                          NaN   \n",
       "39225                                   NaN                          NaN   \n",
       "39232                                   NaN                          NaN   \n",
       "39239                                   NaN                          NaN   \n",
       "39249                                   NaN                          NaN   \n",
       "39250                                   NaN                          NaN   \n",
       "39251                                   NaN                          NaN   \n",
       "\n",
       "       excess_mortality  excess_mortality_cumulative_per_million  \n",
       "39217               NaN                                      NaN  \n",
       "39218               NaN                                      NaN  \n",
       "39221               NaN                                      NaN  \n",
       "39222               NaN                                      NaN  \n",
       "39225               NaN                                      NaN  \n",
       "39232               NaN                                      NaN  \n",
       "39239               NaN                                      NaN  \n",
       "39249               NaN                                      NaN  \n",
       "39250               NaN                                      NaN  \n",
       "39251               NaN                                      NaN  \n",
       "\n",
       "[10 rows x 65 columns]"
      ]
     },
     "execution_count": 271,
     "metadata": {},
     "output_type": "execute_result"
    }
   ],
   "source": [
    "df.head(10)"
   ]
  },
  {
   "cell_type": "code",
   "execution_count": 272,
   "metadata": {},
   "outputs": [
    {
     "name": "stdout",
     "output_type": "stream",
     "text": [
      "<class 'pandas.core.frame.DataFrame'>\n",
      "Int64Index: 594 entries, 39217 to 39836\n",
      "Data columns (total 65 columns):\n",
      " #   Column                                   Non-Null Count  Dtype  \n",
      "---  ------                                   --------------  -----  \n",
      " 0   iso_code                                 594 non-null    object \n",
      " 1   continent                                594 non-null    object \n",
      " 2   location                                 594 non-null    object \n",
      " 3   date                                     594 non-null    object \n",
      " 4   total_cases                              594 non-null    float64\n",
      " 5   new_cases                                593 non-null    float64\n",
      " 6   new_cases_smoothed                       591 non-null    float64\n",
      " 7   total_deaths                             588 non-null    float64\n",
      " 8   new_deaths                               588 non-null    float64\n",
      " 9   new_deaths_smoothed                      591 non-null    float64\n",
      " 10  total_cases_per_million                  594 non-null    float64\n",
      " 11  new_cases_per_million                    593 non-null    float64\n",
      " 12  new_cases_smoothed_per_million           591 non-null    float64\n",
      " 13  total_deaths_per_million                 588 non-null    float64\n",
      " 14  new_deaths_per_million                   588 non-null    float64\n",
      " 15  new_deaths_smoothed_per_million          591 non-null    float64\n",
      " 16  reproduction_rate                        578 non-null    float64\n",
      " 17  icu_patients                             573 non-null    float64\n",
      " 18  icu_patients_per_million                 573 non-null    float64\n",
      " 19  hosp_patients                            583 non-null    float64\n",
      " 20  hosp_patients_per_million                583 non-null    float64\n",
      " 21  weekly_icu_admissions                    83 non-null     float64\n",
      " 22  weekly_icu_admissions_per_million        83 non-null     float64\n",
      " 23  weekly_hosp_admissions                   83 non-null     float64\n",
      " 24  weekly_hosp_admissions_per_million       83 non-null     float64\n",
      " 25  new_tests                                507 non-null    float64\n",
      " 26  total_tests                              0 non-null      float64\n",
      " 27  total_tests_per_thousand                 0 non-null      float64\n",
      " 28  new_tests_per_thousand                   507 non-null    float64\n",
      " 29  new_tests_smoothed                       501 non-null    float64\n",
      " 30  new_tests_smoothed_per_thousand          501 non-null    float64\n",
      " 31  positive_rate                            501 non-null    float64\n",
      " 32  tests_per_case                           501 non-null    float64\n",
      " 33  tests_units                              507 non-null    object \n",
      " 34  total_vaccinations                       281 non-null    float64\n",
      " 35  people_vaccinated                        281 non-null    float64\n",
      " 36  people_fully_vaccinated                  261 non-null    float64\n",
      " 37  total_boosters                           229 non-null    float64\n",
      " 38  new_vaccinations                         280 non-null    float64\n",
      " 39  new_vaccinations_smoothed                280 non-null    float64\n",
      " 40  total_vaccinations_per_hundred           281 non-null    float64\n",
      " 41  people_vaccinated_per_hundred            281 non-null    float64\n",
      " 42  people_fully_vaccinated_per_hundred      261 non-null    float64\n",
      " 43  total_boosters_per_hundred               229 non-null    float64\n",
      " 44  new_vaccinations_smoothed_per_million    280 non-null    float64\n",
      " 45  stringency_index                         592 non-null    float64\n",
      " 46  population                               594 non-null    float64\n",
      " 47  population_density                       594 non-null    float64\n",
      " 48  median_age                               594 non-null    float64\n",
      " 49  aged_65_older                            594 non-null    float64\n",
      " 50  aged_70_older                            594 non-null    float64\n",
      " 51  gdp_per_capita                           594 non-null    float64\n",
      " 52  extreme_poverty                          0 non-null      float64\n",
      " 53  cardiovasc_death_rate                    594 non-null    float64\n",
      " 54  diabetes_prevalence                      594 non-null    float64\n",
      " 55  female_smokers                           594 non-null    float64\n",
      " 56  male_smokers                             594 non-null    float64\n",
      " 57  handwashing_facilities                   0 non-null      float64\n",
      " 58  hospital_beds_per_thousand               594 non-null    float64\n",
      " 59  life_expectancy                          594 non-null    float64\n",
      " 60  human_development_index                  594 non-null    float64\n",
      " 61  excess_mortality_cumulative_absolute     80 non-null     float64\n",
      " 62  excess_mortality_cumulative              80 non-null     float64\n",
      " 63  excess_mortality                         80 non-null     float64\n",
      " 64  excess_mortality_cumulative_per_million  80 non-null     float64\n",
      "dtypes: float64(60), object(5)\n",
      "memory usage: 306.3+ KB\n"
     ]
    }
   ],
   "source": [
    "df.info()"
   ]
  },
  {
   "cell_type": "code",
   "execution_count": 273,
   "metadata": {},
   "outputs": [],
   "source": [
    "df[\"date\"] = pd.to_datetime(df[\"date\"])"
   ]
  },
  {
   "cell_type": "code",
   "execution_count": 274,
   "metadata": {},
   "outputs": [
    {
     "data": {
      "image/png": "[encoded data removed]",
      "text/plain": [
       "<Figure size 432x288 with 1 Axes>"
      ]
     },
     "metadata": {
      "needs_background": "light"
     },
     "output_type": "display_data"
    }
   ],
   "source": [
    "sns.lineplot(x=\"date\", y=\"total_cases\", data=df);\n",
    "plt.xticks(rotation=90);"
   ]
  },
  {
   "cell_type": "code",
   "execution_count": 275,
   "metadata": {},
   "outputs": [],
   "source": [
    "START_DATE = datetime(2020, 3, 15)"
   ]
  },
  {
   "cell_type": "code",
   "execution_count": 276,
   "metadata": {},
   "outputs": [
    {
     "data": {
      "image/png": "[encoded data removed]",
      "text/plain": [
       "<Figure size 432x288 with 1 Axes>"
      ]
     },
     "metadata": {
      "needs_background": "light"
     },
     "output_type": "display_data"
    }
   ],
   "source": [
    "\n",
    "sns.lineplot(x=\"date\", y=\"total_cases\", data=df.loc[df[\"date\"] < datetime(2020, 5, 1)]);\n",
    "plt.xticks(rotation=90);"
   ]
  },
  {
   "cell_type": "code",
   "execution_count": 277,
   "metadata": {},
   "outputs": [],
   "source": [
    "START_DATE = datetime(2020, 3, 15)"
   ]
  },
  {
   "cell_type": "code",
   "execution_count": 278,
   "metadata": {},
   "outputs": [],
   "source": [
    "df = df.loc[df[\"date\"] > START_DATE, :]"
   ]
  },
  {
   "cell_type": "code",
   "execution_count": 279,
   "metadata": {},
   "outputs": [],
   "source": [
    "df[\"day_number\"] = np.arange(df.shape[0]) + 1"
   ]
  },
  {
   "cell_type": "code",
   "execution_count": 280,
   "metadata": {},
   "outputs": [],
   "source": [
    "train_size = int(df.shape[0] * 0.8)\n",
    "train_df = df.iloc[:train_size].copy()\n",
    "test_df = df.iloc[train_size:].copy()"
   ]
  },
  {
   "cell_type": "code",
   "execution_count": 281,
   "metadata": {},
   "outputs": [
    {
     "data": {
      "image/png": "[encoded data removed]",
      "text/plain": [
       "<Figure size 432x288 with 1 Axes>"
      ]
     },
     "metadata": {
      "needs_background": "light"
     },
     "output_type": "display_data"
    }
   ],
   "source": [
    "sns.lineplot(x=\"day_number\", y=\"total_cases\", data=train_df);\n",
    "sns.lineplot(x=\"day_number\", y=\"total_cases\", data=test_df);"
   ]
  },
  {
   "cell_type": "markdown",
   "metadata": {},
   "source": [
    "<h2>Линейная</h2>"
   ]
  },
  {
   "cell_type": "code",
   "execution_count": 282,
   "metadata": {},
   "outputs": [],
   "source": [
    "model = LinearRegression()"
   ]
  },
  {
   "cell_type": "code",
   "execution_count": 283,
   "metadata": {},
   "outputs": [],
   "source": [
    "TRAIN_FEATURES = [\"day_number\"]"
   ]
  },
  {
   "cell_type": "code",
   "execution_count": 284,
   "metadata": {},
   "outputs": [
    {
     "data": {
      "text/plain": [
       "LinearRegression()"
      ]
     },
     "execution_count": 284,
     "metadata": {},
     "output_type": "execute_result"
    }
   ],
   "source": [
    "model.fit(train_df[TRAIN_FEATURES], train_df[\"total_cases\"])"
   ]
  },
  {
   "cell_type": "code",
   "execution_count": 285,
   "metadata": {},
   "outputs": [],
   "source": [
    "prediction = model.predict(test_df[TRAIN_FEATURES])\n"
   ]
  },
  {
   "cell_type": "code",
   "execution_count": 286,
   "metadata": {},
   "outputs": [
    {
     "data": {
      "text/plain": [
       "45845465967.49886"
      ]
     },
     "execution_count": 286,
     "metadata": {},
     "output_type": "execute_result"
    }
   ],
   "source": [
    "mean_squared_error(test_df[\"total_cases\"], prediction)"
   ]
  },
  {
   "cell_type": "code",
   "execution_count": 287,
   "metadata": {},
   "outputs": [
    {
     "data": {
      "image/png": "[encoded data removed]",
      "text/plain": [
       "<Figure size 432x288 with 1 Axes>"
      ]
     },
     "metadata": {
      "needs_background": "light"
     },
     "output_type": "display_data"
    }
   ],
   "source": [
    "sns.lineplot(x=\"day_number\", y=\"total_cases\", data=test_df);\n",
    "sns.lineplot(x=test_df[\"day_number\"], y=prediction);"
   ]
  },
  {
   "cell_type": "code",
   "execution_count": 288,
   "metadata": {},
   "outputs": [],
   "source": [
    "x = (test_df[\"total_cases\"] - prediction)"
   ]
  },
  {
   "cell_type": "code",
   "execution_count": 289,
   "metadata": {},
   "outputs": [
    {
     "name": "stdout",
     "output_type": "stream",
     "text": [
      "Среднее X для Экспоненты: 188725.1693960021\n",
      "Дисперсия X для Эспоненты: 10318792124.338108\n"
     ]
    }
   ],
   "source": [
    "print(f'Среднее X для Экспоненты: {x.mean()}')\n",
    "\n",
    "print(f'Дисперсия X для Эспоненты: {x.var()}')"
   ]
  },
  {
   "cell_type": "markdown",
   "metadata": {},
   "source": [
    "<h2>Экспонента</h2>"
   ]
  },
  {
   "cell_type": "code",
   "execution_count": 290,
   "metadata": {},
   "outputs": [
    {
     "data": {
      "text/plain": [
       "LinearRegression()"
      ]
     },
     "execution_count": 290,
     "metadata": {},
     "output_type": "execute_result"
    }
   ],
   "source": [
    "model.fit(train_df[TRAIN_FEATURES], np.log(train_df[\"total_cases\"]))"
   ]
  },
  {
   "cell_type": "code",
   "execution_count": 291,
   "metadata": {},
   "outputs": [],
   "source": [
    "prediction = model.predict(test_df[TRAIN_FEATURES])"
   ]
  },
  {
   "cell_type": "code",
   "execution_count": 292,
   "metadata": {},
   "outputs": [],
   "source": [
    "prediction_train = model.predict(train_df[TRAIN_FEATURES])"
   ]
  },
  {
   "cell_type": "code",
   "execution_count": 293,
   "metadata": {},
   "outputs": [
    {
     "data": {
      "text/plain": [
       "41353853968085.08"
      ]
     },
     "execution_count": 293,
     "metadata": {},
     "output_type": "execute_result"
    }
   ],
   "source": [
    "mean_squared_error(test_df[\"total_cases\"], prediction)"
   ]
  },
  {
   "cell_type": "code",
   "execution_count": 294,
   "metadata": {},
   "outputs": [
    {
     "data": {
      "image/png": "[encoded data removed]",
      "text/plain": [
       "<Figure size 432x288 with 1 Axes>"
      ]
     },
     "metadata": {
      "needs_background": "light"
     },
     "output_type": "display_data"
    }
   ],
   "source": [
    "sns.lineplot(x=\"day_number\", y=\"total_cases\", data=train_df);\n",
    "sns.lineplot(x=train_df[\"day_number\"], y=np.exp(prediction_train));"
   ]
  },
  {
   "cell_type": "code",
   "execution_count": 295,
   "metadata": {},
   "outputs": [],
   "source": [
    "x = (test_df[\"total_cases\"] - prediction)"
   ]
  },
  {
   "cell_type": "code",
   "execution_count": 296,
   "metadata": {},
   "outputs": [
    {
     "name": "stdout",
     "output_type": "stream",
     "text": [
      "Среднее X для Экспоненты: 6411684.235089618\n",
      "Дисперсия X для Эспоненты: 246319938805.94626\n"
     ]
    }
   ],
   "source": [
    "print(f'Среднее X для Экспоненты: {x.mean()}')\n",
    "\n",
    "print(f'Дисперсия X для Эспоненты: {x.var()}')"
   ]
  },
  {
   "cell_type": "markdown",
   "metadata": {},
   "source": [
    "<h2>Сигмойда</h2>"
   ]
  },
  {
   "cell_type": "code",
   "execution_count": 297,
   "metadata": {},
   "outputs": [],
   "source": [
    "train_df[\"new_colomn\"] = train_df[\"day_number\"] ** 2"
   ]
  },
  {
   "cell_type": "code",
   "execution_count": 298,
   "metadata": {},
   "outputs": [],
   "source": [
    "test_df[\"new_colomn\"] = test_df[\"day_number\"] ** 2"
   ]
  },
  {
   "cell_type": "code",
   "execution_count": 299,
   "metadata": {},
   "outputs": [],
   "source": [
    "TRAIN_FEATURES = [\"day_number\", \"new_colomn\"]"
   ]
  },
  {
   "cell_type": "code",
   "execution_count": 300,
   "metadata": {},
   "outputs": [
    {
     "data": {
      "text/plain": [
       "LinearRegression()"
      ]
     },
     "execution_count": 300,
     "metadata": {},
     "output_type": "execute_result"
    }
   ],
   "source": [
    "model.fit(train_df[TRAIN_FEATURES], np.log1p(train_df[\"new_cases\"].fillna(0).clip(lower=0)))\n"
   ]
  },
  {
   "cell_type": "code",
   "execution_count": 301,
   "metadata": {},
   "outputs": [],
   "source": [
    "prediction = model.predict(test_df[TRAIN_FEATURES].fillna(0).clip(lower=0))\n"
   ]
  },
  {
   "cell_type": "code",
   "execution_count": 302,
   "metadata": {},
   "outputs": [],
   "source": [
    "test_df[\"new_total_cases\"] = test_df[\"total_cases\"]\n",
    "test_df[\"new_new_cases\"] = test_df[\"new_cases\"]\n"
   ]
  },
  {
   "cell_type": "code",
   "execution_count": 303,
   "metadata": {},
   "outputs": [],
   "source": [
    "test_df[\"new_total_cases\"] = 0"
   ]
  },
  {
   "cell_type": "code",
   "execution_count": 304,
   "metadata": {},
   "outputs": [
    {
     "name": "stderr",
     "output_type": "stream",
     "text": [
      "/home/uzhastin/miniconda3/envs/mlisuct/lib/python3.8/site-packages/pandas/core/indexing.py:1732: SettingWithCopyWarning: \n",
      "A value is trying to be set on a copy of a slice from a DataFrame\n",
      "\n",
      "See the caveats in the documentation: https://pandas.pydata.org/pandas-docs/stable/user_guide/indexing.html#returning-a-view-versus-a-copy\n",
      "  self._setitem_single_block(indexer, value, name)\n"
     ]
    }
   ],
   "source": [
    "for item in range(len(test_df[\"new_total_cases\"])):\n",
    "    if item == 0:\n",
    "        test_df[\"new_total_cases\"].iloc[0] = train_df[\"total_cases\"].iloc[-1]\n",
    "    else:\n",
    "        test_df[\"new_total_cases\"].iloc[item] = test_df[\"new_total_cases\"].iloc[item-1] + np.exp(prediction[item])\n"
   ]
  },
  {
   "cell_type": "code",
   "execution_count": 312,
   "metadata": {},
   "outputs": [
    {
     "data": {
      "image/png": "[encoded data removed]",
      "text/plain": [
       "<Figure size 432x288 with 1 Axes>"
      ]
     },
     "metadata": {
      "needs_background": "light"
     },
     "output_type": "display_data"
    }
   ],
   "source": [
    "sns.lineplot(x=\"day_number\", y=\"total_cases\", data=test_df);\n",
    "sns.lineplot(x=test_df[\"day_number\"], y=test_df[\"new_total_cases\"]);"
   ]
  },
  {
   "cell_type": "code",
   "execution_count": 306,
   "metadata": {},
   "outputs": [
    {
     "data": {
      "text/plain": [
       "40884291157867.086"
      ]
     },
     "execution_count": 306,
     "metadata": {},
     "output_type": "execute_result"
    }
   ],
   "source": [
    "mean_squared_error(test_df[\"new_total_cases\"], prediction)"
   ]
  },
  {
   "cell_type": "code",
   "execution_count": 307,
   "metadata": {},
   "outputs": [],
   "source": [
    "x = (test_df[\"new_total_cases\"] - prediction)"
   ]
  },
  {
   "cell_type": "code",
   "execution_count": 308,
   "metadata": {},
   "outputs": [
    {
     "name": "stdout",
     "output_type": "stream",
     "text": [
      "Среднее X для Сигмойды: 6386842.868910115\n",
      "Дисперсия X для Сигмойды: 93348169309.52473\n"
     ]
    }
   ],
   "source": [
    "print(f'Среднее X для Сигмойды: {x.mean()}')\n",
    "\n",
    "print(f'Дисперсия X для Сигмойды: {x.var()}')"
   ]
  }
 ],
 "metadata": {
  "interpreter": {
   "hash": "3542dfc54b17ef6b74844fbcfb3783968511f69d614b718f5c5ff24b1d6219b4"
  },
  "kernelspec": {
   "display_name": "Python 3 (ipykernel)",
   "language": "python",
   "name": "python3"
  },
  "language_info": {
   "codemirror_mode": {
    "name": "ipython",
    "version": 3
   },
   "file_extension": ".py",
   "mimetype": "text/x-python",
   "name": "python",
   "nbconvert_exporter": "python",
   "pygments_lexer": "ipython3",
   "version": "3.9.7"
  }
 },
 "nbformat": 4,
 "nbformat_minor": 4
}
